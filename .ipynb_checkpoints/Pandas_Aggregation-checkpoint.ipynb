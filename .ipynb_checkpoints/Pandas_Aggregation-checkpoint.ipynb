{
 "cells": [
  {
   "cell_type": "markdown",
   "id": "a7c60267-022e-4cc9-abbe-112d50a0c00f",
   "metadata": {},
   "source": [
    "# Pandas - Aggregation, Down-sampling\n",
    "\n",
    "1. Mean and std. dev. of a algo. group \n",
    "2. Avg. Precision, Recall metrics - across an algo\n",
    "3. Understand 'groupby' object type\n",
    "4. Write out summary metrics to a .csv"
   ]
  },
  {
   "cell_type": "code",
   "execution_count": null,
   "id": "afea9fae-57be-4070-a75a-0ff0e58d91ab",
   "metadata": {
    "tags": []
   },
   "outputs": [],
   "source": [
    "import numpy as np\n",
    "import pandas as pd\n",
    "\n",
    "results_file = 'results.csv'\n",
    "# Import Data\n",
    "df = pd.read_csv('V_6_2_T1__test_results.csv')\n",
    "print('Test file imported. Records: ', len(df.index),'\\n')\n",
    "df.columns"
   ]
  },
  {
   "cell_type": "markdown",
   "id": "c817934e-0aa3-4b7e-b7d4-bec8a58e9e31",
   "metadata": {},
   "source": [
    "### Grouping by Algorithm and computing Precision -- with its mean and std.dev"
   ]
  },
  {
   "cell_type": "code",
   "execution_count": null,
   "id": "a4459b1d-78d7-4be0-92b5-758ed2566bf3",
   "metadata": {
    "tags": []
   },
   "outputs": [],
   "source": [
    "metrics_pr = df.groupby(['Algorithm']).agg({'Precision' :['mean','std']})\n",
    "metrics_pr"
   ]
  },
  {
   "cell_type": "markdown",
   "id": "c37b5f83-5269-4cf8-bde0-a8a87fd84ea5",
   "metadata": {},
   "source": [
    "### Group by Algorithm - compute multiple metrics and their mean, std.dev\n",
    "- Additionally round off to 3 dec places"
   ]
  },
  {
   "cell_type": "code",
   "execution_count": null,
   "id": "aaf7ee8d-a19c-400c-ac0e-ad6968c1ed1f",
   "metadata": {
    "tags": []
   },
   "outputs": [],
   "source": [
    "metrics = df.groupby(['Algorithm']).agg({'Precision': ['mean','std'], \n",
    "                                         'Recall': ['mean','std'],\n",
    "                                         'F1-Beta': ['mean','std']})\n",
    "metrics.round(3)"
   ]
  },
  {
   "cell_type": "markdown",
   "id": "c5973a38-6224-40e4-ad8a-457809024963",
   "metadata": {},
   "source": [
    "### metrics is a Pandas Data-frame!\n",
    "- Columns are multi-value tuples\n",
    "- e.g. (Recall, std): stands for column \"std.dev of Recall metric\"\n",
    "- For a particular group-by element i.e. algo., index with it after specifying the column\n",
    "- ```metrics[('Precision',  'std')]['DQN']```\n",
    "\n",
    "### Levels of information - from multiple metrics\n",
    "- ```metrics['Precision']```\n",
    "- ```metrics['Precision']['mean']```\n",
    "- ```metrics['Precision']['mean']['DQN']```"
   ]
  },
  {
   "cell_type": "code",
   "execution_count": null,
   "id": "4528c45c-961d-4c4b-9487-59a3c09f5240",
   "metadata": {
    "tags": []
   },
   "outputs": [],
   "source": [
    "metrics.columns"
   ]
  },
  {
   "cell_type": "markdown",
   "id": "2cd9d50d-cf1b-4e2b-a175-8d25ffb6f022",
   "metadata": {
    "tags": []
   },
   "source": [
    "#### Print Precision for all algos"
   ]
  },
  {
   "cell_type": "code",
   "execution_count": null,
   "id": "bb7891a3-af72-41c2-ba38-fada48b7a0ce",
   "metadata": {
    "tags": []
   },
   "outputs": [],
   "source": [
    "metrics['Precision']"
   ]
  },
  {
   "cell_type": "markdown",
   "id": "c7239712-4930-4af7-a0ac-a847eb536a85",
   "metadata": {},
   "source": [
    "#### Print avg. of Precision for all algos"
   ]
  },
  {
   "cell_type": "code",
   "execution_count": null,
   "id": "8666d880-eed6-401f-8082-569207303fb4",
   "metadata": {
    "tags": []
   },
   "outputs": [],
   "source": [
    "metrics['Precision']['mean']"
   ]
  },
  {
   "cell_type": "markdown",
   "id": "6f437deb-6e03-418c-8d78-cb36ae6033c2",
   "metadata": {},
   "source": [
    "#### Print mean of Precision for DQN algo. only\n",
    "- Round to 3 decimals"
   ]
  },
  {
   "cell_type": "code",
   "execution_count": null,
   "id": "196165dd-8559-4c03-94b3-187c2d9dfc45",
   "metadata": {
    "tags": []
   },
   "outputs": [],
   "source": [
    "round(metrics['Precision']['mean']['DQN'], 3)"
   ]
  },
  {
   "cell_type": "markdown",
   "id": "85dbdc22-6ced-43d8-9940-d81651777a3f",
   "metadata": {},
   "source": [
    "## Saving as a report to a .csv"
   ]
  },
  {
   "cell_type": "code",
   "execution_count": null,
   "id": "c93ea715-222e-43ed-82db-ff6347b081e7",
   "metadata": {
    "tags": []
   },
   "outputs": [],
   "source": [
    "from pathlib import Path  \n",
    "results_file = Path('pd_reports/report.csv')  \n",
    "results_file.parent.mkdir(parents=True, exist_ok=True)  "
   ]
  },
  {
   "cell_type": "code",
   "execution_count": null,
   "id": "2d0adabb-f0d4-4503-8125-0c36ade6a854",
   "metadata": {
    "tags": []
   },
   "outputs": [],
   "source": [
    "metrics = metrics.round(3)\n",
    "metrics.to_csv(results_file)"
   ]
  },
  {
   "cell_type": "markdown",
   "id": "b8706011-c8ed-46bd-b217-f262b7370c80",
   "metadata": {},
   "source": [
    "#### Read the report and visualize"
   ]
  },
  {
   "cell_type": "code",
   "execution_count": null,
   "id": "3ceb7935-2c60-4bea-b8b8-435795838230",
   "metadata": {
    "tags": []
   },
   "outputs": [],
   "source": [
    "df_results = pd.read_csv(results_file)\n",
    "df_results"
   ]
  },
  {
   "cell_type": "markdown",
   "id": "061d3612-7633-4564-b736-0cf8dd131b37",
   "metadata": {},
   "source": [
    "## Utility functions "
   ]
  },
  {
   "cell_type": "code",
   "execution_count": null,
   "id": "31303835-6fe8-414f-816a-84fc4e45b3ab",
   "metadata": {
    "tags": []
   },
   "outputs": [],
   "source": [
    "def compute_metrics(df):\n",
    "    metrics = df.groupby(['Algorithm']).agg({'Wtd_Precision': ['mean','std'], 'Wtd_Recall': ['mean','std'], 'F1_Beta': ['mean','std'],\n",
    "                                             'Normal_cases': ['mean'], 'Normal_error': ['mean','std'],\n",
    "                                             'Replace_cases': ['mean'], 'Replace_error': ['mean','std'],\n",
    "                                             'Overall_error': ['mean','std']})\n",
    "    return(metrics)"
   ]
  },
  {
   "cell_type": "code",
   "execution_count": null,
   "id": "8d7fd67c-a808-44ab-a1db-237392d501a6",
   "metadata": {
    "tags": []
   },
   "outputs": [],
   "source": [
    "def write_metrics_report(metrics, report_file, round_decimals=8):\n",
    "    from pathlib import Path \n",
    "    report_file = Path(report_file)  \n",
    "    report_file.parent.mkdir(parents=True, exist_ok=True)\n",
    "    metrics = metrics.round(round_decimals)\n",
    "    metrics.to_csv(results_file)\n"
   ]
  },
  {
   "cell_type": "code",
   "execution_count": null,
   "id": "aeb0eaa3-569e-470e-b692-563522e18e20",
   "metadata": {},
   "outputs": [],
   "source": [
    "import numpy as np\n",
    "import pandas as pd\n",
    "\n",
    "results_file = 'pd_reports\\c_results.csv'\n",
    "df = pd.read_csv('V_6_2_T1__test_results.csv')\n",
    "print('Test file imported. Records: ', len(df.index),'\\n')\n",
    "\n",
    "M = compute_metrics(df)\n",
    "write_metrics_report(M, results_file, 3)"
   ]
  },
  {
   "cell_type": "code",
   "execution_count": null,
   "id": "94812583-f437-4404-9194-9e1cec970fc6",
   "metadata": {
    "tags": []
   },
   "outputs": [],
   "source": [
    "create_column_headings = write_metrics_report"
   ]
  },
  {
   "cell_type": "markdown",
   "id": "dda3c8dd-49ce-48eb-bf6d-5b2717231af5",
   "metadata": {},
   "source": [
    "## Down-sampling a large or hi-resolution data-set\n",
    "- Two techniques to downsample .iloc and index arithmetic based"
   ]
  },
  {
   "cell_type": "code",
   "execution_count": null,
   "id": "1451dbf5-9154-414e-803a-9bbae4b177fb",
   "metadata": {},
   "outputs": [],
   "source": [
    "def downsample(file, sample_rate):\n",
    "    import pandas as pd\n",
    "    df = pd.read_csv(file)\n",
    "    print('Data file imported. Records: ', ,'\\n')\n",
    "    print(f'- Input data records: {len(df.index)}.\\n- Sampling rate: {sample_rate}\\n- Expected rows {round(len(df.index)/sample_rate)}')\n",
    "    df_downsampled = df.iloc[::sample_rate, :]\n",
    "    print(f'- Down-sampled to {len(df_downsampled.index)} rows.')\n",
    "    return(df_downsampled)\n"
   ]
  },
  {
   "cell_type": "code",
   "execution_count": 49,
   "id": "5c863ac7-a8cc-4efb-8658-0586f3dc25fa",
   "metadata": {
    "tags": []
   },
   "outputs": [
    {
     "name": "stdout",
     "output_type": "stream",
     "text": [
      "Test file imported. Records:  34674 \n",
      "\n",
      "Sampling rate: 100: Expected rows 347\n"
     ]
    }
   ],
   "source": [
    "import pandas as pd\n",
    "import matplotlib.pyplot as plt\n",
    "\n",
    "DATA_FILE = 'pd_reports\\PHM_C6_Expt_Data.csv'\n",
    "SAMPLE_EVERY = 100\n",
    "\n",
    "df = pd.read_csv(DATA_FILE)\n",
    "print('Test file imported. Records: ', len(df.index),'\\n')\n",
    "print(f'Sampling rate: {SAMPLE_EVERY}: Expected rows {round(len(df.index)/SAMPLE_EVERY)}')"
   ]
  },
  {
   "cell_type": "code",
   "execution_count": 50,
   "id": "4f3138c9-df98-4fce-8da1-1496a7c7758b",
   "metadata": {
    "tags": []
   },
   "outputs": [],
   "source": []
  },
  {
   "cell_type": "code",
   "execution_count": 51,
   "id": "2ef5913b-7234-4610-8527-34555edff529",
   "metadata": {
    "tags": []
   },
   "outputs": [],
   "source": [
    "df_downsampled_2 =  df[df.index % SAMPLE_EVERY == 0]  # Selects every 3rd raw starting from 0"
   ]
  },
  {
   "cell_type": "code",
   "execution_count": 52,
   "id": "ff9d7aff-f10d-4837-9475-7b629f3e4fe2",
   "metadata": {
    "tags": []
   },
   "outputs": [
    {
     "name": "stderr",
     "output_type": "stream",
     "text": [
      "C:\\Users\\RajeshS\\AppData\\Local\\Temp\\ipykernel_22044\\2342199783.py:1: SettingWithCopyWarning: \n",
      "A value is trying to be set on a copy of a slice from a DataFrame.\n",
      "Try using .loc[row_indexer,col_indexer] = value instead\n",
      "\n",
      "See the caveats in the documentation: https://pandas.pydata.org/pandas-docs/stable/user_guide/indexing.html#returning-a-view-versus-a-copy\n",
      "  df_downsampled_1['index'] = [n for n in range(len(df_downsampled_1.index))]\n"
     ]
    }
   ],
   "source": [
    "df_downsampled_1['index'] = [n for n in range(len(df_downsampled_1.index))]"
   ]
  },
  {
   "cell_type": "code",
   "execution_count": 46,
   "id": "c287d0e4-08ba-4033-997d-97a232419854",
   "metadata": {
    "tags": []
   },
   "outputs": [
    {
     "name": "stdout",
     "output_type": "stream",
     "text": [
      "Technique 1 - Records:  347\n",
      "Technique 2 - Records:  347\n"
     ]
    }
   ],
   "source": [
    "print('Technique 1 - Records: ', len(df_downsampled_1.index))\n",
    "print('Technique 2 - Records: ', len(df_downsampled_2.index))"
   ]
  },
  {
   "cell_type": "code",
   "execution_count": 53,
   "id": "2a7fe7cd-a6bf-48dd-9a88-ce2edec1cd0c",
   "metadata": {
    "tags": []
   },
   "outputs": [],
   "source": [
    "df_downsampled_1.to_csv('PHM_C6_DS.csv', index=False)"
   ]
  },
  {
   "cell_type": "code",
   "execution_count": null,
   "id": "bd306246-c095-41ee-ab41-393131e91eca",
   "metadata": {},
   "outputs": [],
   "source": []
  }
 ],
 "metadata": {
  "kernelspec": {
   "display_name": "RL",
   "language": "python",
   "name": "rl"
  },
  "language_info": {
   "codemirror_mode": {
    "name": "ipython",
    "version": 3
   },
   "file_extension": ".py",
   "mimetype": "text/x-python",
   "name": "python",
   "nbconvert_exporter": "python",
   "pygments_lexer": "ipython3",
   "version": "3.9.1"
  }
 },
 "nbformat": 4,
 "nbformat_minor": 5
}
