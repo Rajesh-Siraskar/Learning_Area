{
 "cells": [
  {
   "cell_type": "markdown",
   "id": "bb9eb070-cae2-4be4-8b8b-4b98c41cd7ad",
   "metadata": {},
   "source": [
    "# The ```*``` idiom\n",
    "--------------------------------------------------------------\n",
    "\n",
    "### The ```*``` operator  -- \"Rest\" of list idiom"
   ]
  },
  {
   "cell_type": "code",
   "execution_count": 1,
   "id": "bc2ef223-9ea6-4eda-998f-4f2f21cd3867",
   "metadata": {
    "tags": []
   },
   "outputs": [
    {
     "name": "stdout",
     "output_type": "stream",
     "text": [
      "lk: [['a', 'b', 'c', 'd', 'e', 'f', 'g'], [0, 1]]\n",
      "d1 len: 7  d2 len: 7\n",
      "data_1:  ['a', 'b', 'c', 'd', 'e', 'f', 'g']\n",
      "data_2:  [0, 1]\n",
      "['a', 'b', 'c', 'd', 'e', 'f', 'g', [0, 1]]\n",
      "[['a', 'b', 'c', 'd', 'e', 'f', 'g'], 0, 1]\n",
      "['a', 'b', 'c', 'd', 'e', 'f', 'g', 0, 1]\n",
      "a\n",
      "b\n",
      "['c', 'd', 'e', 'f', 'g', 0, 1]\n"
     ]
    }
   ],
   "source": [
    "l = ['a', 'b', 'c', 'd', 'e', 'f', 'g']\n",
    "k = [0, 1]\n",
    "lk = [l,k]\n",
    "print('lk:', lk)\n",
    "\n",
    "data_1, data_2 = [], []\n",
    "data_1, data_2 = [*lk]\n",
    "print('d1 len:', len(data_1), ' d2 len:', len(data_1))\n",
    "print('data_1: ', data_1) \n",
    "print('data_2: ', data_2)\n",
    "\n",
    "# Star idiom\n",
    "p = [*l, k]; print(p)\n",
    "p = [l, *k]; print(p)\n",
    "p = [*l, *k]; print(p)\n",
    "\n",
    "(l1, l2, *l3) = p\n",
    "print(l1) # First element\n",
    "print(l2) # 2nd  element\n",
    "print(l3) # remainder of list "
   ]
  },
  {
   "cell_type": "code",
   "execution_count": 2,
   "id": "d8196026-b794-430b-882f-246798935d0b",
   "metadata": {},
   "outputs": [],
   "source": [
    "import numpy as np\n",
    "  \n",
    "def memory_sizer(mem_size, input_shape):\n",
    "    \n",
    "    z = np.zeros((mem_size, *input_shape))\n",
    "    \n",
    "    print(f'mem-size: {mem_size}')\n",
    "    print(f'input size: {input_shape}')\n",
    "    print(f'Shape of Z: {z.shape}')\n",
    "    print(30*'-')\n",
    "    print(z)\n",
    "    print(60*'=')"
   ]
  },
  {
   "cell_type": "code",
   "execution_count": 3,
   "id": "bf88a34c-28fc-4848-bd64-2384baf3ff84",
   "metadata": {
    "tags": []
   },
   "outputs": [
    {
     "name": "stdout",
     "output_type": "stream",
     "text": [
      "mem-size: 3\n",
      "input size: (2, 4)\n",
      "Shape of Z: (3, 2, 4)\n",
      "------------------------------\n",
      "[[[0. 0. 0. 0.]\n",
      "  [0. 0. 0. 0.]]\n",
      "\n",
      " [[0. 0. 0. 0.]\n",
      "  [0. 0. 0. 0.]]\n",
      "\n",
      " [[0. 0. 0. 0.]\n",
      "  [0. 0. 0. 0.]]]\n",
      "============================================================\n",
      "None\n",
      "mem-size: 3\n",
      "input size: (2,)\n",
      "Shape of Z: (3, 2)\n",
      "------------------------------\n",
      "[[0. 0.]\n",
      " [0. 0.]\n",
      " [0. 0.]]\n",
      "============================================================\n",
      "None\n"
     ]
    }
   ],
   "source": [
    "print(memory_sizer(3, (2,4)))\n",
    "print(memory_sizer(3, (2,)))"
   ]
  },
  {
   "cell_type": "code",
   "execution_count": 4,
   "id": "acf96bca-6294-49e1-9380-7763fa155152",
   "metadata": {
    "tags": []
   },
   "outputs": [
    {
     "name": "stdout",
     "output_type": "stream",
     "text": [
      "[198  44 188  97 167  88 119 184 125 147]\n",
      "[0 5 8 3]\n",
      "[198  88 125  97]\n"
     ]
    }
   ],
   "source": [
    "A = np.random.randint(low=30, high=200, size=10)\n",
    "print(A)\n",
    "batch = np.random.choice(10, 4, replace=False)\n",
    "print(batch)\n",
    "print(A[batch])"
   ]
  },
  {
   "cell_type": "code",
   "execution_count": 5,
   "id": "e5d2265d-8c0a-4e7d-a418-d61fa7dff926",
   "metadata": {
    "tags": []
   },
   "outputs": [
    {
     "name": "stdout",
     "output_type": "stream",
     "text": [
      "(10, 20, 30)\n"
     ]
    }
   ],
   "source": [
    "def add(x, y):\n",
    "    z = x + y\n",
    "    return (x,y,z)\n",
    "\n",
    "print(add(10, 20))"
   ]
  },
  {
   "cell_type": "code",
   "execution_count": 6,
   "id": "3a3bec1a-d07a-4a7f-b468-f26902bb34d6",
   "metadata": {},
   "outputs": [
    {
     "data": {
      "text/plain": [
       "array([[[28,  3, 22],\n",
       "        [ 8, 47, 43]],\n",
       "\n",
       "       [[19, 36,  3],\n",
       "        [15, 46,  2]],\n",
       "\n",
       "       [[34, 10, 32],\n",
       "        [47, 42,  9]],\n",
       "\n",
       "       [[13,  1, 32],\n",
       "        [12, 26, 21]]])"
      ]
     },
     "execution_count": 6,
     "metadata": {},
     "output_type": "execute_result"
    }
   ],
   "source": [
    "A = np.random.randint(50, size=(4, 2, 3))\n",
    "A"
   ]
  },
  {
   "cell_type": "code",
   "execution_count": 7,
   "id": "6702e230-1398-44ca-a938-8ff723e37bff",
   "metadata": {
    "tags": []
   },
   "outputs": [
    {
     "name": "stdout",
     "output_type": "stream",
     "text": [
      "(4, 2, 3)\n",
      "[[[28  3 22]\n",
      "  [ 8 47 43]]\n",
      "\n",
      " [[19 36  3]\n",
      "  [15 46  2]]\n",
      "\n",
      " [[34 10 32]\n",
      "  [47 42  9]]\n",
      "\n",
      " [[13  1 32]\n",
      "  [12 26 21]]]\n",
      "------------------------------------------------------------\n",
      "(4,)\n",
      "[43  2  9 21]\n"
     ]
    }
   ],
   "source": [
    "print(A.shape); print(A); print(60*'-')\n",
    "\n",
    "B = A[:, -1, 2]; print(B.shape); print(B)"
   ]
  }
 ],
 "metadata": {
  "kernelspec": {
   "display_name": "Python 3 (ipykernel)",
   "language": "python",
   "name": "python3"
  },
  "language_info": {
   "codemirror_mode": {
    "name": "ipython",
    "version": 3
   },
   "file_extension": ".py",
   "mimetype": "text/x-python",
   "name": "python",
   "nbconvert_exporter": "python",
   "pygments_lexer": "ipython3",
   "version": "3.9.1"
  }
 },
 "nbformat": 4,
 "nbformat_minor": 5
}
