{
 "cells": [
  {
   "cell_type": "markdown",
   "id": "a7c60267-022e-4cc9-abbe-112d50a0c00f",
   "metadata": {},
   "source": [
    "# Pandas - Aggregation, Down-sampling\n",
    "\n",
    "1. Mean and std. dev. of a algo. group \n",
    "2. Avg. Precision, Recall metrics - across an algo\n",
    "3. Understand 'groupby' object type\n",
    "4. Write out summary metrics to a .csv"
   ]
  },
  {
   "cell_type": "code",
   "execution_count": 2,
   "id": "afea9fae-57be-4070-a75a-0ff0e58d91ab",
   "metadata": {
    "tags": []
   },
   "outputs": [
    {
     "ename": "FileNotFoundError",
     "evalue": "[Errno 2] No such file or directory: 'V_6_2_T1__test_results.csv'",
     "output_type": "error",
     "traceback": [
      "\u001b[1;31m---------------------------------------------------------------------------\u001b[0m",
      "\u001b[1;31mFileNotFoundError\u001b[0m                         Traceback (most recent call last)",
      "Cell \u001b[1;32mIn[2], line 6\u001b[0m\n\u001b[0;32m      4\u001b[0m results_file \u001b[38;5;241m=\u001b[39m \u001b[38;5;124m'\u001b[39m\u001b[38;5;124mresults.csv\u001b[39m\u001b[38;5;124m'\u001b[39m\n\u001b[0;32m      5\u001b[0m \u001b[38;5;66;03m# Import Data\u001b[39;00m\n\u001b[1;32m----> 6\u001b[0m df \u001b[38;5;241m=\u001b[39m \u001b[43mpd\u001b[49m\u001b[38;5;241;43m.\u001b[39;49m\u001b[43mread_csv\u001b[49m\u001b[43m(\u001b[49m\u001b[38;5;124;43m'\u001b[39;49m\u001b[38;5;124;43mV_6_2_T1__test_results.csv\u001b[39;49m\u001b[38;5;124;43m'\u001b[39;49m\u001b[43m)\u001b[49m\n\u001b[0;32m      7\u001b[0m \u001b[38;5;28mprint\u001b[39m(\u001b[38;5;124m'\u001b[39m\u001b[38;5;124mTest file imported. Records: \u001b[39m\u001b[38;5;124m'\u001b[39m, \u001b[38;5;28mlen\u001b[39m(df\u001b[38;5;241m.\u001b[39mindex),\u001b[38;5;124m'\u001b[39m\u001b[38;5;130;01m\\n\u001b[39;00m\u001b[38;5;124m'\u001b[39m)\n\u001b[0;32m      8\u001b[0m df\u001b[38;5;241m.\u001b[39mcolumns\n",
      "File \u001b[1;32mc:\\users\\rajeshs\\appdata\\local\\programs\\python\\python39\\lib\\site-packages\\pandas\\util\\_decorators.py:211\u001b[0m, in \u001b[0;36mdeprecate_kwarg.<locals>._deprecate_kwarg.<locals>.wrapper\u001b[1;34m(*args, **kwargs)\u001b[0m\n\u001b[0;32m    209\u001b[0m     \u001b[38;5;28;01melse\u001b[39;00m:\n\u001b[0;32m    210\u001b[0m         kwargs[new_arg_name] \u001b[38;5;241m=\u001b[39m new_arg_value\n\u001b[1;32m--> 211\u001b[0m \u001b[38;5;28;01mreturn\u001b[39;00m func(\u001b[38;5;241m*\u001b[39margs, \u001b[38;5;241m*\u001b[39m\u001b[38;5;241m*\u001b[39mkwargs)\n",
      "File \u001b[1;32mc:\\users\\rajeshs\\appdata\\local\\programs\\python\\python39\\lib\\site-packages\\pandas\\util\\_decorators.py:331\u001b[0m, in \u001b[0;36mdeprecate_nonkeyword_arguments.<locals>.decorate.<locals>.wrapper\u001b[1;34m(*args, **kwargs)\u001b[0m\n\u001b[0;32m    325\u001b[0m \u001b[38;5;28;01mif\u001b[39;00m \u001b[38;5;28mlen\u001b[39m(args) \u001b[38;5;241m>\u001b[39m num_allow_args:\n\u001b[0;32m    326\u001b[0m     warnings\u001b[38;5;241m.\u001b[39mwarn(\n\u001b[0;32m    327\u001b[0m         msg\u001b[38;5;241m.\u001b[39mformat(arguments\u001b[38;5;241m=\u001b[39m_format_argument_list(allow_args)),\n\u001b[0;32m    328\u001b[0m         \u001b[38;5;167;01mFutureWarning\u001b[39;00m,\n\u001b[0;32m    329\u001b[0m         stacklevel\u001b[38;5;241m=\u001b[39mfind_stack_level(),\n\u001b[0;32m    330\u001b[0m     )\n\u001b[1;32m--> 331\u001b[0m \u001b[38;5;28;01mreturn\u001b[39;00m func(\u001b[38;5;241m*\u001b[39margs, \u001b[38;5;241m*\u001b[39m\u001b[38;5;241m*\u001b[39mkwargs)\n",
      "File \u001b[1;32mc:\\users\\rajeshs\\appdata\\local\\programs\\python\\python39\\lib\\site-packages\\pandas\\io\\parsers\\readers.py:950\u001b[0m, in \u001b[0;36mread_csv\u001b[1;34m(filepath_or_buffer, sep, delimiter, header, names, index_col, usecols, squeeze, prefix, mangle_dupe_cols, dtype, engine, converters, true_values, false_values, skipinitialspace, skiprows, skipfooter, nrows, na_values, keep_default_na, na_filter, verbose, skip_blank_lines, parse_dates, infer_datetime_format, keep_date_col, date_parser, dayfirst, cache_dates, iterator, chunksize, compression, thousands, decimal, lineterminator, quotechar, quoting, doublequote, escapechar, comment, encoding, encoding_errors, dialect, error_bad_lines, warn_bad_lines, on_bad_lines, delim_whitespace, low_memory, memory_map, float_precision, storage_options)\u001b[0m\n\u001b[0;32m    935\u001b[0m kwds_defaults \u001b[38;5;241m=\u001b[39m _refine_defaults_read(\n\u001b[0;32m    936\u001b[0m     dialect,\n\u001b[0;32m    937\u001b[0m     delimiter,\n\u001b[1;32m   (...)\u001b[0m\n\u001b[0;32m    946\u001b[0m     defaults\u001b[38;5;241m=\u001b[39m{\u001b[38;5;124m\"\u001b[39m\u001b[38;5;124mdelimiter\u001b[39m\u001b[38;5;124m\"\u001b[39m: \u001b[38;5;124m\"\u001b[39m\u001b[38;5;124m,\u001b[39m\u001b[38;5;124m\"\u001b[39m},\n\u001b[0;32m    947\u001b[0m )\n\u001b[0;32m    948\u001b[0m kwds\u001b[38;5;241m.\u001b[39mupdate(kwds_defaults)\n\u001b[1;32m--> 950\u001b[0m \u001b[38;5;28;01mreturn\u001b[39;00m \u001b[43m_read\u001b[49m\u001b[43m(\u001b[49m\u001b[43mfilepath_or_buffer\u001b[49m\u001b[43m,\u001b[49m\u001b[43m \u001b[49m\u001b[43mkwds\u001b[49m\u001b[43m)\u001b[49m\n",
      "File \u001b[1;32mc:\\users\\rajeshs\\appdata\\local\\programs\\python\\python39\\lib\\site-packages\\pandas\\io\\parsers\\readers.py:605\u001b[0m, in \u001b[0;36m_read\u001b[1;34m(filepath_or_buffer, kwds)\u001b[0m\n\u001b[0;32m    602\u001b[0m _validate_names(kwds\u001b[38;5;241m.\u001b[39mget(\u001b[38;5;124m\"\u001b[39m\u001b[38;5;124mnames\u001b[39m\u001b[38;5;124m\"\u001b[39m, \u001b[38;5;28;01mNone\u001b[39;00m))\n\u001b[0;32m    604\u001b[0m \u001b[38;5;66;03m# Create the parser.\u001b[39;00m\n\u001b[1;32m--> 605\u001b[0m parser \u001b[38;5;241m=\u001b[39m TextFileReader(filepath_or_buffer, \u001b[38;5;241m*\u001b[39m\u001b[38;5;241m*\u001b[39mkwds)\n\u001b[0;32m    607\u001b[0m \u001b[38;5;28;01mif\u001b[39;00m chunksize \u001b[38;5;129;01mor\u001b[39;00m iterator:\n\u001b[0;32m    608\u001b[0m     \u001b[38;5;28;01mreturn\u001b[39;00m parser\n",
      "File \u001b[1;32mc:\\users\\rajeshs\\appdata\\local\\programs\\python\\python39\\lib\\site-packages\\pandas\\io\\parsers\\readers.py:1442\u001b[0m, in \u001b[0;36mTextFileReader.__init__\u001b[1;34m(self, f, engine, **kwds)\u001b[0m\n\u001b[0;32m   1439\u001b[0m     \u001b[38;5;28mself\u001b[39m\u001b[38;5;241m.\u001b[39moptions[\u001b[38;5;124m\"\u001b[39m\u001b[38;5;124mhas_index_names\u001b[39m\u001b[38;5;124m\"\u001b[39m] \u001b[38;5;241m=\u001b[39m kwds[\u001b[38;5;124m\"\u001b[39m\u001b[38;5;124mhas_index_names\u001b[39m\u001b[38;5;124m\"\u001b[39m]\n\u001b[0;32m   1441\u001b[0m \u001b[38;5;28mself\u001b[39m\u001b[38;5;241m.\u001b[39mhandles: IOHandles \u001b[38;5;241m|\u001b[39m \u001b[38;5;28;01mNone\u001b[39;00m \u001b[38;5;241m=\u001b[39m \u001b[38;5;28;01mNone\u001b[39;00m\n\u001b[1;32m-> 1442\u001b[0m \u001b[38;5;28mself\u001b[39m\u001b[38;5;241m.\u001b[39m_engine \u001b[38;5;241m=\u001b[39m \u001b[38;5;28;43mself\u001b[39;49m\u001b[38;5;241;43m.\u001b[39;49m\u001b[43m_make_engine\u001b[49m\u001b[43m(\u001b[49m\u001b[43mf\u001b[49m\u001b[43m,\u001b[49m\u001b[43m \u001b[49m\u001b[38;5;28;43mself\u001b[39;49m\u001b[38;5;241;43m.\u001b[39;49m\u001b[43mengine\u001b[49m\u001b[43m)\u001b[49m\n",
      "File \u001b[1;32mc:\\users\\rajeshs\\appdata\\local\\programs\\python\\python39\\lib\\site-packages\\pandas\\io\\parsers\\readers.py:1735\u001b[0m, in \u001b[0;36mTextFileReader._make_engine\u001b[1;34m(self, f, engine)\u001b[0m\n\u001b[0;32m   1733\u001b[0m     \u001b[38;5;28;01mif\u001b[39;00m \u001b[38;5;124m\"\u001b[39m\u001b[38;5;124mb\u001b[39m\u001b[38;5;124m\"\u001b[39m \u001b[38;5;129;01mnot\u001b[39;00m \u001b[38;5;129;01min\u001b[39;00m mode:\n\u001b[0;32m   1734\u001b[0m         mode \u001b[38;5;241m+\u001b[39m\u001b[38;5;241m=\u001b[39m \u001b[38;5;124m\"\u001b[39m\u001b[38;5;124mb\u001b[39m\u001b[38;5;124m\"\u001b[39m\n\u001b[1;32m-> 1735\u001b[0m \u001b[38;5;28mself\u001b[39m\u001b[38;5;241m.\u001b[39mhandles \u001b[38;5;241m=\u001b[39m \u001b[43mget_handle\u001b[49m\u001b[43m(\u001b[49m\n\u001b[0;32m   1736\u001b[0m \u001b[43m    \u001b[49m\u001b[43mf\u001b[49m\u001b[43m,\u001b[49m\n\u001b[0;32m   1737\u001b[0m \u001b[43m    \u001b[49m\u001b[43mmode\u001b[49m\u001b[43m,\u001b[49m\n\u001b[0;32m   1738\u001b[0m \u001b[43m    \u001b[49m\u001b[43mencoding\u001b[49m\u001b[38;5;241;43m=\u001b[39;49m\u001b[38;5;28;43mself\u001b[39;49m\u001b[38;5;241;43m.\u001b[39;49m\u001b[43moptions\u001b[49m\u001b[38;5;241;43m.\u001b[39;49m\u001b[43mget\u001b[49m\u001b[43m(\u001b[49m\u001b[38;5;124;43m\"\u001b[39;49m\u001b[38;5;124;43mencoding\u001b[39;49m\u001b[38;5;124;43m\"\u001b[39;49m\u001b[43m,\u001b[49m\u001b[43m \u001b[49m\u001b[38;5;28;43;01mNone\u001b[39;49;00m\u001b[43m)\u001b[49m\u001b[43m,\u001b[49m\n\u001b[0;32m   1739\u001b[0m \u001b[43m    \u001b[49m\u001b[43mcompression\u001b[49m\u001b[38;5;241;43m=\u001b[39;49m\u001b[38;5;28;43mself\u001b[39;49m\u001b[38;5;241;43m.\u001b[39;49m\u001b[43moptions\u001b[49m\u001b[38;5;241;43m.\u001b[39;49m\u001b[43mget\u001b[49m\u001b[43m(\u001b[49m\u001b[38;5;124;43m\"\u001b[39;49m\u001b[38;5;124;43mcompression\u001b[39;49m\u001b[38;5;124;43m\"\u001b[39;49m\u001b[43m,\u001b[49m\u001b[43m \u001b[49m\u001b[38;5;28;43;01mNone\u001b[39;49;00m\u001b[43m)\u001b[49m\u001b[43m,\u001b[49m\n\u001b[0;32m   1740\u001b[0m \u001b[43m    \u001b[49m\u001b[43mmemory_map\u001b[49m\u001b[38;5;241;43m=\u001b[39;49m\u001b[38;5;28;43mself\u001b[39;49m\u001b[38;5;241;43m.\u001b[39;49m\u001b[43moptions\u001b[49m\u001b[38;5;241;43m.\u001b[39;49m\u001b[43mget\u001b[49m\u001b[43m(\u001b[49m\u001b[38;5;124;43m\"\u001b[39;49m\u001b[38;5;124;43mmemory_map\u001b[39;49m\u001b[38;5;124;43m\"\u001b[39;49m\u001b[43m,\u001b[49m\u001b[43m \u001b[49m\u001b[38;5;28;43;01mFalse\u001b[39;49;00m\u001b[43m)\u001b[49m\u001b[43m,\u001b[49m\n\u001b[0;32m   1741\u001b[0m \u001b[43m    \u001b[49m\u001b[43mis_text\u001b[49m\u001b[38;5;241;43m=\u001b[39;49m\u001b[43mis_text\u001b[49m\u001b[43m,\u001b[49m\n\u001b[0;32m   1742\u001b[0m \u001b[43m    \u001b[49m\u001b[43merrors\u001b[49m\u001b[38;5;241;43m=\u001b[39;49m\u001b[38;5;28;43mself\u001b[39;49m\u001b[38;5;241;43m.\u001b[39;49m\u001b[43moptions\u001b[49m\u001b[38;5;241;43m.\u001b[39;49m\u001b[43mget\u001b[49m\u001b[43m(\u001b[49m\u001b[38;5;124;43m\"\u001b[39;49m\u001b[38;5;124;43mencoding_errors\u001b[39;49m\u001b[38;5;124;43m\"\u001b[39;49m\u001b[43m,\u001b[49m\u001b[43m \u001b[49m\u001b[38;5;124;43m\"\u001b[39;49m\u001b[38;5;124;43mstrict\u001b[39;49m\u001b[38;5;124;43m\"\u001b[39;49m\u001b[43m)\u001b[49m\u001b[43m,\u001b[49m\n\u001b[0;32m   1743\u001b[0m \u001b[43m    \u001b[49m\u001b[43mstorage_options\u001b[49m\u001b[38;5;241;43m=\u001b[39;49m\u001b[38;5;28;43mself\u001b[39;49m\u001b[38;5;241;43m.\u001b[39;49m\u001b[43moptions\u001b[49m\u001b[38;5;241;43m.\u001b[39;49m\u001b[43mget\u001b[49m\u001b[43m(\u001b[49m\u001b[38;5;124;43m\"\u001b[39;49m\u001b[38;5;124;43mstorage_options\u001b[39;49m\u001b[38;5;124;43m\"\u001b[39;49m\u001b[43m,\u001b[49m\u001b[43m \u001b[49m\u001b[38;5;28;43;01mNone\u001b[39;49;00m\u001b[43m)\u001b[49m\u001b[43m,\u001b[49m\n\u001b[0;32m   1744\u001b[0m \u001b[43m\u001b[49m\u001b[43m)\u001b[49m\n\u001b[0;32m   1745\u001b[0m \u001b[38;5;28;01massert\u001b[39;00m \u001b[38;5;28mself\u001b[39m\u001b[38;5;241m.\u001b[39mhandles \u001b[38;5;129;01mis\u001b[39;00m \u001b[38;5;129;01mnot\u001b[39;00m \u001b[38;5;28;01mNone\u001b[39;00m\n\u001b[0;32m   1746\u001b[0m f \u001b[38;5;241m=\u001b[39m \u001b[38;5;28mself\u001b[39m\u001b[38;5;241m.\u001b[39mhandles\u001b[38;5;241m.\u001b[39mhandle\n",
      "File \u001b[1;32mc:\\users\\rajeshs\\appdata\\local\\programs\\python\\python39\\lib\\site-packages\\pandas\\io\\common.py:856\u001b[0m, in \u001b[0;36mget_handle\u001b[1;34m(path_or_buf, mode, encoding, compression, memory_map, is_text, errors, storage_options)\u001b[0m\n\u001b[0;32m    851\u001b[0m \u001b[38;5;28;01melif\u001b[39;00m \u001b[38;5;28misinstance\u001b[39m(handle, \u001b[38;5;28mstr\u001b[39m):\n\u001b[0;32m    852\u001b[0m     \u001b[38;5;66;03m# Check whether the filename is to be opened in binary mode.\u001b[39;00m\n\u001b[0;32m    853\u001b[0m     \u001b[38;5;66;03m# Binary mode does not support 'encoding' and 'newline'.\u001b[39;00m\n\u001b[0;32m    854\u001b[0m     \u001b[38;5;28;01mif\u001b[39;00m ioargs\u001b[38;5;241m.\u001b[39mencoding \u001b[38;5;129;01mand\u001b[39;00m \u001b[38;5;124m\"\u001b[39m\u001b[38;5;124mb\u001b[39m\u001b[38;5;124m\"\u001b[39m \u001b[38;5;129;01mnot\u001b[39;00m \u001b[38;5;129;01min\u001b[39;00m ioargs\u001b[38;5;241m.\u001b[39mmode:\n\u001b[0;32m    855\u001b[0m         \u001b[38;5;66;03m# Encoding\u001b[39;00m\n\u001b[1;32m--> 856\u001b[0m         handle \u001b[38;5;241m=\u001b[39m \u001b[38;5;28;43mopen\u001b[39;49m\u001b[43m(\u001b[49m\n\u001b[0;32m    857\u001b[0m \u001b[43m            \u001b[49m\u001b[43mhandle\u001b[49m\u001b[43m,\u001b[49m\n\u001b[0;32m    858\u001b[0m \u001b[43m            \u001b[49m\u001b[43mioargs\u001b[49m\u001b[38;5;241;43m.\u001b[39;49m\u001b[43mmode\u001b[49m\u001b[43m,\u001b[49m\n\u001b[0;32m    859\u001b[0m \u001b[43m            \u001b[49m\u001b[43mencoding\u001b[49m\u001b[38;5;241;43m=\u001b[39;49m\u001b[43mioargs\u001b[49m\u001b[38;5;241;43m.\u001b[39;49m\u001b[43mencoding\u001b[49m\u001b[43m,\u001b[49m\n\u001b[0;32m    860\u001b[0m \u001b[43m            \u001b[49m\u001b[43merrors\u001b[49m\u001b[38;5;241;43m=\u001b[39;49m\u001b[43merrors\u001b[49m\u001b[43m,\u001b[49m\n\u001b[0;32m    861\u001b[0m \u001b[43m            \u001b[49m\u001b[43mnewline\u001b[49m\u001b[38;5;241;43m=\u001b[39;49m\u001b[38;5;124;43m\"\u001b[39;49m\u001b[38;5;124;43m\"\u001b[39;49m\u001b[43m,\u001b[49m\n\u001b[0;32m    862\u001b[0m \u001b[43m        \u001b[49m\u001b[43m)\u001b[49m\n\u001b[0;32m    863\u001b[0m     \u001b[38;5;28;01melse\u001b[39;00m:\n\u001b[0;32m    864\u001b[0m         \u001b[38;5;66;03m# Binary mode\u001b[39;00m\n\u001b[0;32m    865\u001b[0m         handle \u001b[38;5;241m=\u001b[39m \u001b[38;5;28mopen\u001b[39m(handle, ioargs\u001b[38;5;241m.\u001b[39mmode)\n",
      "\u001b[1;31mFileNotFoundError\u001b[0m: [Errno 2] No such file or directory: 'V_6_2_T1__test_results.csv'"
     ]
    }
   ],
   "source": [
    "import numpy as np\n",
    "import pandas as pd\n",
    "\n",
    "results_file = 'results.csv'\n",
    "# Import Data\n",
    "df = pd.read_csv(results_file)\n",
    "print('Test file imported. Records: ', len(df.index),'\\n')\n",
    "df.columns"
   ]
  },
  {
   "cell_type": "markdown",
   "id": "c817934e-0aa3-4b7e-b7d4-bec8a58e9e31",
   "metadata": {},
   "source": [
    "### Grouping by Algorithm and computing Precision -- with its mean and std.dev"
   ]
  },
  {
   "cell_type": "code",
   "execution_count": null,
   "id": "a4459b1d-78d7-4be0-92b5-758ed2566bf3",
   "metadata": {
    "tags": []
   },
   "outputs": [],
   "source": [
    "metrics_pr = df.groupby(['Algorithm']).agg({'Precision' :['mean','std']})\n",
    "metrics_pr"
   ]
  },
  {
   "cell_type": "markdown",
   "id": "c37b5f83-5269-4cf8-bde0-a8a87fd84ea5",
   "metadata": {},
   "source": [
    "### Group by Algorithm - compute multiple metrics and their mean, std.dev\n",
    "- Additionally round off to 3 dec places"
   ]
  },
  {
   "cell_type": "code",
   "execution_count": null,
   "id": "aaf7ee8d-a19c-400c-ac0e-ad6968c1ed1f",
   "metadata": {
    "tags": []
   },
   "outputs": [],
   "source": [
    "metrics = df.groupby(['Algorithm']).agg({'Precision': ['mean','std'], \n",
    "                                         'Recall': ['mean','std'],\n",
    "                                         'F1-Beta': ['mean','std']})\n",
    "metrics.round(3)"
   ]
  },
  {
   "cell_type": "markdown",
   "id": "c5973a38-6224-40e4-ad8a-457809024963",
   "metadata": {},
   "source": [
    "### metrics is a Pandas Data-frame!\n",
    "- Columns are multi-value tuples\n",
    "- e.g. (Recall, std): stands for column \"std.dev of Recall metric\"\n",
    "- For a particular group-by element i.e. algo., index with it after specifying the column\n",
    "- ```metrics[('Precision',  'std')]['DQN']```\n",
    "\n",
    "### Levels of information - from multiple metrics\n",
    "- ```metrics['Precision']```\n",
    "- ```metrics['Precision']['mean']```\n",
    "- ```metrics['Precision']['mean']['DQN']```"
   ]
  },
  {
   "cell_type": "code",
   "execution_count": null,
   "id": "4528c45c-961d-4c4b-9487-59a3c09f5240",
   "metadata": {
    "tags": []
   },
   "outputs": [],
   "source": [
    "metrics.columns"
   ]
  },
  {
   "cell_type": "markdown",
   "id": "2cd9d50d-cf1b-4e2b-a175-8d25ffb6f022",
   "metadata": {
    "tags": []
   },
   "source": [
    "#### Print Precision for all algos"
   ]
  },
  {
   "cell_type": "code",
   "execution_count": null,
   "id": "bb7891a3-af72-41c2-ba38-fada48b7a0ce",
   "metadata": {
    "tags": []
   },
   "outputs": [],
   "source": [
    "metrics['Precision']"
   ]
  },
  {
   "cell_type": "markdown",
   "id": "c7239712-4930-4af7-a0ac-a847eb536a85",
   "metadata": {},
   "source": [
    "#### Print avg. of Precision for all algos"
   ]
  },
  {
   "cell_type": "code",
   "execution_count": null,
   "id": "8666d880-eed6-401f-8082-569207303fb4",
   "metadata": {
    "tags": []
   },
   "outputs": [],
   "source": [
    "metrics['Precision']['mean']"
   ]
  },
  {
   "cell_type": "markdown",
   "id": "6f437deb-6e03-418c-8d78-cb36ae6033c2",
   "metadata": {},
   "source": [
    "#### Print mean of Precision for DQN algo. only\n",
    "- Round to 3 decimals"
   ]
  },
  {
   "cell_type": "code",
   "execution_count": null,
   "id": "196165dd-8559-4c03-94b3-187c2d9dfc45",
   "metadata": {
    "tags": []
   },
   "outputs": [],
   "source": [
    "round(metrics['Precision']['mean']['DQN'], 3)"
   ]
  },
  {
   "cell_type": "markdown",
   "id": "85dbdc22-6ced-43d8-9940-d81651777a3f",
   "metadata": {},
   "source": [
    "## Saving as a report to a .csv"
   ]
  },
  {
   "cell_type": "code",
   "execution_count": null,
   "id": "c93ea715-222e-43ed-82db-ff6347b081e7",
   "metadata": {
    "tags": []
   },
   "outputs": [],
   "source": [
    "from pathlib import Path  \n",
    "results_file = Path('pd_reports/report.csv')  \n",
    "results_file.parent.mkdir(parents=True, exist_ok=True)  "
   ]
  },
  {
   "cell_type": "code",
   "execution_count": null,
   "id": "2d0adabb-f0d4-4503-8125-0c36ade6a854",
   "metadata": {
    "tags": []
   },
   "outputs": [],
   "source": [
    "metrics = metrics.round(3)\n",
    "metrics.to_csv(results_file)"
   ]
  },
  {
   "cell_type": "markdown",
   "id": "b8706011-c8ed-46bd-b217-f262b7370c80",
   "metadata": {},
   "source": [
    "#### Read the report and visualize"
   ]
  },
  {
   "cell_type": "code",
   "execution_count": null,
   "id": "3ceb7935-2c60-4bea-b8b8-435795838230",
   "metadata": {
    "tags": []
   },
   "outputs": [],
   "source": [
    "df_results = pd.read_csv(results_file)\n",
    "df_results"
   ]
  },
  {
   "cell_type": "markdown",
   "id": "061d3612-7633-4564-b736-0cf8dd131b37",
   "metadata": {},
   "source": [
    "## Utility functions "
   ]
  },
  {
   "cell_type": "code",
   "execution_count": null,
   "id": "31303835-6fe8-414f-816a-84fc4e45b3ab",
   "metadata": {
    "tags": []
   },
   "outputs": [],
   "source": [
    "def compute_metrics(df):\n",
    "    metrics = df.groupby(['Algorithm']).agg({'Wtd_Precision': ['mean','std'], 'Wtd_Recall': ['mean','std'], 'F1_Beta': ['mean','std'],\n",
    "                                             'Normal_cases': ['mean'], 'Normal_error': ['mean','std'],\n",
    "                                             'Replace_cases': ['mean'], 'Replace_error': ['mean','std'],\n",
    "                                             'Overall_error': ['mean','std']})\n",
    "    return(metrics)"
   ]
  },
  {
   "cell_type": "code",
   "execution_count": null,
   "id": "8d7fd67c-a808-44ab-a1db-237392d501a6",
   "metadata": {
    "tags": []
   },
   "outputs": [],
   "source": [
    "def write_metrics_report(metrics, report_file, round_decimals=8):\n",
    "    from pathlib import Path \n",
    "    report_file = Path(report_file)  \n",
    "    report_file.parent.mkdir(parents=True, exist_ok=True)\n",
    "    metrics = metrics.round(round_decimals)\n",
    "    metrics.to_csv(results_file)\n"
   ]
  },
  {
   "cell_type": "code",
   "execution_count": null,
   "id": "aeb0eaa3-569e-470e-b692-563522e18e20",
   "metadata": {},
   "outputs": [],
   "source": [
    "import numpy as np\n",
    "import pandas as pd\n",
    "\n",
    "results_file = 'pd_reports\\c_results.csv'\n",
    "df = pd.read_csv('V_6_2_T1__test_results.csv')\n",
    "print('Test file imported. Records: ', len(df.index),'\\n')\n",
    "\n",
    "M = compute_metrics(df)\n",
    "write_metrics_report(M, results_file, 3)"
   ]
  },
  {
   "cell_type": "code",
   "execution_count": null,
   "id": "94812583-f437-4404-9194-9e1cec970fc6",
   "metadata": {
    "tags": []
   },
   "outputs": [],
   "source": [
    "create_column_headings = write_metrics_report"
   ]
  },
  {
   "cell_type": "markdown",
   "id": "dda3c8dd-49ce-48eb-bf6d-5b2717231af5",
   "metadata": {},
   "source": [
    "## Down-sampling a large or hi-resolution data-set\n",
    "- Two techniques to downsample .iloc and index arithmetic based"
   ]
  },
  {
   "cell_type": "code",
   "execution_count": null,
   "id": "1451dbf5-9154-414e-803a-9bbae4b177fb",
   "metadata": {},
   "outputs": [],
   "source": [
    "def downsample(file, sample_rate):\n",
    "    import pandas as pd\n",
    "    df = pd.read_csv(file)\n",
    "    print('Data file imported. Records: ', ,'\\n')\n",
    "    print(f'- Input data records: {len(df.index)}.\\n- Sampling rate: {sample_rate}\\n- Expected rows {round(len(df.index)/sample_rate)}')\n",
    "    df_downsampled = df.iloc[::sample_rate, :]\n",
    "    print(f'- Down-sampled to {len(df_downsampled.index)} rows.')\n",
    "    return(df_downsampled)\n"
   ]
  },
  {
   "cell_type": "code",
   "execution_count": 49,
   "id": "5c863ac7-a8cc-4efb-8658-0586f3dc25fa",
   "metadata": {
    "tags": []
   },
   "outputs": [
    {
     "name": "stdout",
     "output_type": "stream",
     "text": [
      "Test file imported. Records:  34674 \n",
      "\n",
      "Sampling rate: 100: Expected rows 347\n"
     ]
    }
   ],
   "source": [
    "import pandas as pd\n",
    "import matplotlib.pyplot as plt\n",
    "\n",
    "DATA_FILE = 'pd_reports\\PHM_C6_Expt_Data.csv'\n",
    "SAMPLE_EVERY = 100\n",
    "\n",
    "df = pd.read_csv(DATA_FILE)\n",
    "print('Test file imported. Records: ', len(df.index),'\\n')\n",
    "print(f'Sampling rate: {SAMPLE_EVERY}: Expected rows {round(len(df.index)/SAMPLE_EVERY)}')"
   ]
  },
  {
   "cell_type": "markdown",
   "id": "19fb8da7-510a-42f6-b99d-16b23bf6202e",
   "metadata": {},
   "source": [
    "### Copy a pd df and appending new columns "
   ]
  },
  {
   "cell_type": "code",
   "execution_count": 5,
   "id": "f7d34418-fe77-49c5-8f27-adc51bfa406c",
   "metadata": {
    "tags": []
   },
   "outputs": [
    {
     "name": "stdout",
     "output_type": "stream",
     "text": [
      "Expt file imported. Records:  3 \n",
      "\n",
      "Index(['expt_n', 'environment', 'environment_info', 'data_file', 'R1', 'R2',\n",
      "       'R3', 'wear_threshold', 'threshold_factor', 'add_noise',\n",
      "       'breakdown_chance', 'episodes', 'milling_operations_max',\n",
      "       'version_prefix', 'test_info', 'test_cases', 'test_rounds',\n",
      "       'results_folder', 'test_file', 'train_sample_rate', 'test_sample_rate'],\n",
      "      dtype='object')\n"
     ]
    },
    {
     "data": {
      "text/html": [
       "<div>\n",
       "<style scoped>\n",
       "    .dataframe tbody tr th:only-of-type {\n",
       "        vertical-align: middle;\n",
       "    }\n",
       "\n",
       "    .dataframe tbody tr th {\n",
       "        vertical-align: top;\n",
       "    }\n",
       "\n",
       "    .dataframe thead th {\n",
       "        text-align: right;\n",
       "    }\n",
       "</style>\n",
       "<table border=\"1\" class=\"dataframe\">\n",
       "  <thead>\n",
       "    <tr style=\"text-align: right;\">\n",
       "      <th></th>\n",
       "      <th>expt_n</th>\n",
       "      <th>environment</th>\n",
       "      <th>environment_info</th>\n",
       "      <th>data_file</th>\n",
       "      <th>R1</th>\n",
       "      <th>R2</th>\n",
       "      <th>R3</th>\n",
       "      <th>wear_threshold</th>\n",
       "      <th>threshold_factor</th>\n",
       "      <th>add_noise</th>\n",
       "      <th>...</th>\n",
       "      <th>episodes</th>\n",
       "      <th>milling_operations_max</th>\n",
       "      <th>version_prefix</th>\n",
       "      <th>test_info</th>\n",
       "      <th>test_cases</th>\n",
       "      <th>test_rounds</th>\n",
       "      <th>results_folder</th>\n",
       "      <th>test_file</th>\n",
       "      <th>train_sample_rate</th>\n",
       "      <th>test_sample_rate</th>\n",
       "    </tr>\n",
       "  </thead>\n",
       "  <tbody>\n",
       "    <tr>\n",
       "      <th>0</th>\n",
       "      <td>0</td>\n",
       "      <td>SS</td>\n",
       "      <td>PHM C01 Simple LBD</td>\n",
       "      <td>data\\PHM_Tool_Wear_Data_C01_0p12.csv</td>\n",
       "      <td>1</td>\n",
       "      <td>-1</td>\n",
       "      <td>-40</td>\n",
       "      <td>0.12</td>\n",
       "      <td>1.00</td>\n",
       "      <td>1000.0</td>\n",
       "      <td>...</td>\n",
       "      <td>800</td>\n",
       "      <td>348</td>\n",
       "      <td>PHM_C01_SS</td>\n",
       "      <td>Separate test set.</td>\n",
       "      <td>40</td>\n",
       "      <td>5</td>\n",
       "      <td>results/Re-runs_01-June-2023</td>\n",
       "      <td>NaN</td>\n",
       "      <td>100</td>\n",
       "      <td>70</td>\n",
       "    </tr>\n",
       "    <tr>\n",
       "      <th>1</th>\n",
       "      <td>1</td>\n",
       "      <td>SS</td>\n",
       "      <td>PHM C01 Simple LBD</td>\n",
       "      <td>data\\PHM_Tool_Wear_Data_C01_0p12.csv</td>\n",
       "      <td>1</td>\n",
       "      <td>-1</td>\n",
       "      <td>-20</td>\n",
       "      <td>0.12</td>\n",
       "      <td>0.95</td>\n",
       "      <td>1000.0</td>\n",
       "      <td>...</td>\n",
       "      <td>800</td>\n",
       "      <td>348</td>\n",
       "      <td>PHM_C01_SS</td>\n",
       "      <td>Separate test set.</td>\n",
       "      <td>40</td>\n",
       "      <td>5</td>\n",
       "      <td>results/Re-runs_01-June-2023</td>\n",
       "      <td>NaN</td>\n",
       "      <td>100</td>\n",
       "      <td>70</td>\n",
       "    </tr>\n",
       "    <tr>\n",
       "      <th>2</th>\n",
       "      <td>3</td>\n",
       "      <td>SS</td>\n",
       "      <td>PHM C01 Simple LBD</td>\n",
       "      <td>data\\PHM_Tool_Wear_Data_C01_0p12.csv</td>\n",
       "      <td>1</td>\n",
       "      <td>-1</td>\n",
       "      <td>-100</td>\n",
       "      <td>0.12</td>\n",
       "      <td>1.00</td>\n",
       "      <td>1000.0</td>\n",
       "      <td>...</td>\n",
       "      <td>800</td>\n",
       "      <td>348</td>\n",
       "      <td>PHM_C01_SS</td>\n",
       "      <td>Separate test set.</td>\n",
       "      <td>40</td>\n",
       "      <td>5</td>\n",
       "      <td>results/Re-runs_01-June-2023</td>\n",
       "      <td>NaN</td>\n",
       "      <td>100</td>\n",
       "      <td>70</td>\n",
       "    </tr>\n",
       "  </tbody>\n",
       "</table>\n",
       "<p>3 rows × 21 columns</p>\n",
       "</div>"
      ],
      "text/plain": [
       "   expt_n environment    environment_info  \\\n",
       "0       0          SS  PHM C01 Simple LBD   \n",
       "1       1          SS  PHM C01 Simple LBD   \n",
       "2       3          SS  PHM C01 Simple LBD   \n",
       "\n",
       "                              data_file  R1  R2   R3  wear_threshold  \\\n",
       "0  data\\PHM_Tool_Wear_Data_C01_0p12.csv   1  -1  -40            0.12   \n",
       "1  data\\PHM_Tool_Wear_Data_C01_0p12.csv   1  -1  -20            0.12   \n",
       "2  data\\PHM_Tool_Wear_Data_C01_0p12.csv   1  -1 -100            0.12   \n",
       "\n",
       "   threshold_factor  add_noise  ...  episodes  milling_operations_max  \\\n",
       "0              1.00     1000.0  ...       800                     348   \n",
       "1              0.95     1000.0  ...       800                     348   \n",
       "2              1.00     1000.0  ...       800                     348   \n",
       "\n",
       "   version_prefix           test_info test_cases  test_rounds  \\\n",
       "0      PHM_C01_SS  Separate test set.         40            5   \n",
       "1      PHM_C01_SS  Separate test set.         40            5   \n",
       "2      PHM_C01_SS  Separate test set.         40            5   \n",
       "\n",
       "                 results_folder test_file  train_sample_rate  test_sample_rate  \n",
       "0  results/Re-runs_01-June-2023       NaN                100                70  \n",
       "1  results/Re-runs_01-June-2023       NaN                100                70  \n",
       "2  results/Re-runs_01-June-2023       NaN                100                70  \n",
       "\n",
       "[3 rows x 21 columns]"
      ]
     },
     "execution_count": 5,
     "metadata": {},
     "output_type": "execute_result"
    }
   ],
   "source": [
    "import pandas as pd\n",
    "\n",
    "EXPT_FILE = 'expts.csv'\n",
    "\n",
    "df = pd.read_csv(EXPT_FILE)\n",
    "print('Expt file imported. Records: ', len(df.index),'\\n')\n",
    "print(df.columns)\n",
    "df.head()"
   ]
  },
  {
   "cell_type": "code",
   "execution_count": 13,
   "id": "8240708b-8baf-489e-9efc-435bd8fa2c14",
   "metadata": {
    "tags": []
   },
   "outputs": [
    {
     "data": {
      "text/html": [
       "<div>\n",
       "<style scoped>\n",
       "    .dataframe tbody tr th:only-of-type {\n",
       "        vertical-align: middle;\n",
       "    }\n",
       "\n",
       "    .dataframe tbody tr th {\n",
       "        vertical-align: top;\n",
       "    }\n",
       "\n",
       "    .dataframe thead th {\n",
       "        text-align: right;\n",
       "    }\n",
       "</style>\n",
       "<table border=\"1\" class=\"dataframe\">\n",
       "  <thead>\n",
       "    <tr style=\"text-align: right;\">\n",
       "      <th></th>\n",
       "      <th>expt_n</th>\n",
       "      <th>environment</th>\n",
       "      <th>environment_info</th>\n",
       "      <th>data_file</th>\n",
       "      <th>R1</th>\n",
       "      <th>R2</th>\n",
       "      <th>R3</th>\n",
       "      <th>wear_threshold</th>\n",
       "      <th>threshold_factor</th>\n",
       "      <th>add_noise</th>\n",
       "      <th>...</th>\n",
       "      <th>episodes</th>\n",
       "      <th>milling_operations_max</th>\n",
       "      <th>version_prefix</th>\n",
       "      <th>test_info</th>\n",
       "      <th>test_cases</th>\n",
       "      <th>test_rounds</th>\n",
       "      <th>results_folder</th>\n",
       "      <th>test_file</th>\n",
       "      <th>train_sample_rate</th>\n",
       "      <th>test_sample_rate</th>\n",
       "    </tr>\n",
       "  </thead>\n",
       "  <tbody>\n",
       "    <tr>\n",
       "      <th>0</th>\n",
       "      <td>0</td>\n",
       "      <td>SS</td>\n",
       "      <td>PHM C01 Simple LBD</td>\n",
       "      <td>data\\PHM_Tool_Wear_Data_C01_0p12.csv</td>\n",
       "      <td>1</td>\n",
       "      <td>-1</td>\n",
       "      <td>-40</td>\n",
       "      <td>0.12</td>\n",
       "      <td>1.00</td>\n",
       "      <td>1000.0</td>\n",
       "      <td>...</td>\n",
       "      <td>800</td>\n",
       "      <td>348</td>\n",
       "      <td>PHM_C01_SS</td>\n",
       "      <td>Separate test set.</td>\n",
       "      <td>40</td>\n",
       "      <td>5</td>\n",
       "      <td>results/Re-runs_01-June-2023</td>\n",
       "      <td>NaN</td>\n",
       "      <td>100</td>\n",
       "      <td>70</td>\n",
       "    </tr>\n",
       "    <tr>\n",
       "      <th>1</th>\n",
       "      <td>1</td>\n",
       "      <td>SS</td>\n",
       "      <td>PHM C01 Simple LBD</td>\n",
       "      <td>data\\PHM_Tool_Wear_Data_C01_0p12.csv</td>\n",
       "      <td>1</td>\n",
       "      <td>-1</td>\n",
       "      <td>-20</td>\n",
       "      <td>0.12</td>\n",
       "      <td>0.95</td>\n",
       "      <td>1000.0</td>\n",
       "      <td>...</td>\n",
       "      <td>800</td>\n",
       "      <td>348</td>\n",
       "      <td>PHM_C01_SS</td>\n",
       "      <td>Separate test set.</td>\n",
       "      <td>40</td>\n",
       "      <td>5</td>\n",
       "      <td>results/Re-runs_01-June-2023</td>\n",
       "      <td>NaN</td>\n",
       "      <td>100</td>\n",
       "      <td>70</td>\n",
       "    </tr>\n",
       "    <tr>\n",
       "      <th>2</th>\n",
       "      <td>3</td>\n",
       "      <td>SS</td>\n",
       "      <td>PHM C01 Simple LBD</td>\n",
       "      <td>data\\PHM_Tool_Wear_Data_C01_0p12.csv</td>\n",
       "      <td>1</td>\n",
       "      <td>-1</td>\n",
       "      <td>-100</td>\n",
       "      <td>0.12</td>\n",
       "      <td>1.00</td>\n",
       "      <td>1000.0</td>\n",
       "      <td>...</td>\n",
       "      <td>800</td>\n",
       "      <td>348</td>\n",
       "      <td>PHM_C01_SS</td>\n",
       "      <td>Separate test set.</td>\n",
       "      <td>40</td>\n",
       "      <td>5</td>\n",
       "      <td>results/Re-runs_01-June-2023</td>\n",
       "      <td>NaN</td>\n",
       "      <td>100</td>\n",
       "      <td>70</td>\n",
       "    </tr>\n",
       "  </tbody>\n",
       "</table>\n",
       "<p>3 rows × 21 columns</p>\n",
       "</div>"
      ],
      "text/plain": [
       "   expt_n environment    environment_info  \\\n",
       "0       0          SS  PHM C01 Simple LBD   \n",
       "1       1          SS  PHM C01 Simple LBD   \n",
       "2       3          SS  PHM C01 Simple LBD   \n",
       "\n",
       "                              data_file  R1  R2   R3  wear_threshold  \\\n",
       "0  data\\PHM_Tool_Wear_Data_C01_0p12.csv   1  -1  -40            0.12   \n",
       "1  data\\PHM_Tool_Wear_Data_C01_0p12.csv   1  -1  -20            0.12   \n",
       "2  data\\PHM_Tool_Wear_Data_C01_0p12.csv   1  -1 -100            0.12   \n",
       "\n",
       "   threshold_factor  add_noise  ...  episodes  milling_operations_max  \\\n",
       "0              1.00     1000.0  ...       800                     348   \n",
       "1              0.95     1000.0  ...       800                     348   \n",
       "2              1.00     1000.0  ...       800                     348   \n",
       "\n",
       "   version_prefix           test_info test_cases  test_rounds  \\\n",
       "0      PHM_C01_SS  Separate test set.         40            5   \n",
       "1      PHM_C01_SS  Separate test set.         40            5   \n",
       "2      PHM_C01_SS  Separate test set.         40            5   \n",
       "\n",
       "                 results_folder test_file  train_sample_rate  test_sample_rate  \n",
       "0  results/Re-runs_01-June-2023       NaN                100                70  \n",
       "1  results/Re-runs_01-June-2023       NaN                100                70  \n",
       "2  results/Re-runs_01-June-2023       NaN                100                70  \n",
       "\n",
       "[3 rows x 21 columns]"
      ]
     },
     "execution_count": 13,
     "metadata": {},
     "output_type": "execute_result"
    }
   ],
   "source": [
    "dfr = df.copy()\n",
    "dfr"
   ]
  },
  {
   "cell_type": "code",
   "execution_count": 12,
   "id": "b7d6674c-4e31-47a7-b565-3ef161f18b70",
   "metadata": {
    "tags": []
   },
   "outputs": [
    {
     "ename": "KeyError",
     "evalue": "'Pr'",
     "output_type": "error",
     "traceback": [
      "\u001b[1;31m---------------------------------------------------------------------------\u001b[0m",
      "\u001b[1;31mKeyError\u001b[0m                                  Traceback (most recent call last)",
      "File \u001b[1;32mc:\\users\\rajeshs\\appdata\\local\\programs\\python\\python39\\lib\\site-packages\\pandas\\core\\indexes\\base.py:3802\u001b[0m, in \u001b[0;36mIndex.get_loc\u001b[1;34m(self, key, method, tolerance)\u001b[0m\n\u001b[0;32m   3801\u001b[0m \u001b[38;5;28;01mtry\u001b[39;00m:\n\u001b[1;32m-> 3802\u001b[0m     \u001b[38;5;28;01mreturn\u001b[39;00m \u001b[38;5;28;43mself\u001b[39;49m\u001b[38;5;241;43m.\u001b[39;49m\u001b[43m_engine\u001b[49m\u001b[38;5;241;43m.\u001b[39;49m\u001b[43mget_loc\u001b[49m\u001b[43m(\u001b[49m\u001b[43mcasted_key\u001b[49m\u001b[43m)\u001b[49m\n\u001b[0;32m   3803\u001b[0m \u001b[38;5;28;01mexcept\u001b[39;00m \u001b[38;5;167;01mKeyError\u001b[39;00m \u001b[38;5;28;01mas\u001b[39;00m err:\n",
      "File \u001b[1;32mc:\\users\\rajeshs\\appdata\\local\\programs\\python\\python39\\lib\\site-packages\\pandas\\_libs\\index.pyx:138\u001b[0m, in \u001b[0;36mpandas._libs.index.IndexEngine.get_loc\u001b[1;34m()\u001b[0m\n",
      "File \u001b[1;32mc:\\users\\rajeshs\\appdata\\local\\programs\\python\\python39\\lib\\site-packages\\pandas\\_libs\\index.pyx:165\u001b[0m, in \u001b[0;36mpandas._libs.index.IndexEngine.get_loc\u001b[1;34m()\u001b[0m\n",
      "File \u001b[1;32mpandas\\_libs\\hashtable_class_helper.pxi:5745\u001b[0m, in \u001b[0;36mpandas._libs.hashtable.PyObjectHashTable.get_item\u001b[1;34m()\u001b[0m\n",
      "File \u001b[1;32mpandas\\_libs\\hashtable_class_helper.pxi:5753\u001b[0m, in \u001b[0;36mpandas._libs.hashtable.PyObjectHashTable.get_item\u001b[1;34m()\u001b[0m\n",
      "\u001b[1;31mKeyError\u001b[0m: 'Pr'",
      "\nThe above exception was the direct cause of the following exception:\n",
      "\u001b[1;31mKeyError\u001b[0m                                  Traceback (most recent call last)",
      "Cell \u001b[1;32mIn[12], line 1\u001b[0m\n\u001b[1;32m----> 1\u001b[0m \u001b[43mdfr\u001b[49m\u001b[43m[\u001b[49m\u001b[38;5;124;43m'\u001b[39;49m\u001b[38;5;124;43mPr\u001b[39;49m\u001b[38;5;124;43m'\u001b[39;49m\u001b[43m]\u001b[49m\u001b[38;5;241m.\u001b[39mloc[\u001b[38;5;241m0\u001b[39m] \u001b[38;5;241m=\u001b[39m \u001b[38;5;241m0.10\u001b[39m\n\u001b[0;32m      2\u001b[0m dfr\n",
      "File \u001b[1;32mc:\\users\\rajeshs\\appdata\\local\\programs\\python\\python39\\lib\\site-packages\\pandas\\core\\frame.py:3807\u001b[0m, in \u001b[0;36mDataFrame.__getitem__\u001b[1;34m(self, key)\u001b[0m\n\u001b[0;32m   3805\u001b[0m \u001b[38;5;28;01mif\u001b[39;00m \u001b[38;5;28mself\u001b[39m\u001b[38;5;241m.\u001b[39mcolumns\u001b[38;5;241m.\u001b[39mnlevels \u001b[38;5;241m>\u001b[39m \u001b[38;5;241m1\u001b[39m:\n\u001b[0;32m   3806\u001b[0m     \u001b[38;5;28;01mreturn\u001b[39;00m \u001b[38;5;28mself\u001b[39m\u001b[38;5;241m.\u001b[39m_getitem_multilevel(key)\n\u001b[1;32m-> 3807\u001b[0m indexer \u001b[38;5;241m=\u001b[39m \u001b[38;5;28;43mself\u001b[39;49m\u001b[38;5;241;43m.\u001b[39;49m\u001b[43mcolumns\u001b[49m\u001b[38;5;241;43m.\u001b[39;49m\u001b[43mget_loc\u001b[49m\u001b[43m(\u001b[49m\u001b[43mkey\u001b[49m\u001b[43m)\u001b[49m\n\u001b[0;32m   3808\u001b[0m \u001b[38;5;28;01mif\u001b[39;00m is_integer(indexer):\n\u001b[0;32m   3809\u001b[0m     indexer \u001b[38;5;241m=\u001b[39m [indexer]\n",
      "File \u001b[1;32mc:\\users\\rajeshs\\appdata\\local\\programs\\python\\python39\\lib\\site-packages\\pandas\\core\\indexes\\base.py:3804\u001b[0m, in \u001b[0;36mIndex.get_loc\u001b[1;34m(self, key, method, tolerance)\u001b[0m\n\u001b[0;32m   3802\u001b[0m     \u001b[38;5;28;01mreturn\u001b[39;00m \u001b[38;5;28mself\u001b[39m\u001b[38;5;241m.\u001b[39m_engine\u001b[38;5;241m.\u001b[39mget_loc(casted_key)\n\u001b[0;32m   3803\u001b[0m \u001b[38;5;28;01mexcept\u001b[39;00m \u001b[38;5;167;01mKeyError\u001b[39;00m \u001b[38;5;28;01mas\u001b[39;00m err:\n\u001b[1;32m-> 3804\u001b[0m     \u001b[38;5;28;01mraise\u001b[39;00m \u001b[38;5;167;01mKeyError\u001b[39;00m(key) \u001b[38;5;28;01mfrom\u001b[39;00m \u001b[38;5;21;01merr\u001b[39;00m\n\u001b[0;32m   3805\u001b[0m \u001b[38;5;28;01mexcept\u001b[39;00m \u001b[38;5;167;01mTypeError\u001b[39;00m:\n\u001b[0;32m   3806\u001b[0m     \u001b[38;5;66;03m# If we have a listlike key, _check_indexing_error will raise\u001b[39;00m\n\u001b[0;32m   3807\u001b[0m     \u001b[38;5;66;03m#  InvalidIndexError. Otherwise we fall through and re-raise\u001b[39;00m\n\u001b[0;32m   3808\u001b[0m     \u001b[38;5;66;03m#  the TypeError.\u001b[39;00m\n\u001b[0;32m   3809\u001b[0m     \u001b[38;5;28mself\u001b[39m\u001b[38;5;241m.\u001b[39m_check_indexing_error(key)\n",
      "\u001b[1;31mKeyError\u001b[0m: 'Pr'"
     ]
    }
   ],
   "source": [
    "dfr['Pr'] = 0.0\n",
    "dfr"
   ]
  },
  {
   "cell_type": "code",
   "execution_count": 15,
   "id": "835a7562-48df-4ef2-9768-3584400d9878",
   "metadata": {
    "tags": []
   },
   "outputs": [
    {
     "data": {
      "text/html": [
       "<div>\n",
       "<style scoped>\n",
       "    .dataframe tbody tr th:only-of-type {\n",
       "        vertical-align: middle;\n",
       "    }\n",
       "\n",
       "    .dataframe tbody tr th {\n",
       "        vertical-align: top;\n",
       "    }\n",
       "\n",
       "    .dataframe thead th {\n",
       "        text-align: right;\n",
       "    }\n",
       "</style>\n",
       "<table border=\"1\" class=\"dataframe\">\n",
       "  <thead>\n",
       "    <tr style=\"text-align: right;\">\n",
       "      <th></th>\n",
       "      <th>expt_n</th>\n",
       "      <th>environment</th>\n",
       "      <th>environment_info</th>\n",
       "      <th>data_file</th>\n",
       "      <th>R1</th>\n",
       "      <th>R2</th>\n",
       "      <th>R3</th>\n",
       "      <th>wear_threshold</th>\n",
       "      <th>threshold_factor</th>\n",
       "      <th>add_noise</th>\n",
       "      <th>...</th>\n",
       "      <th>test_info</th>\n",
       "      <th>test_cases</th>\n",
       "      <th>test_rounds</th>\n",
       "      <th>results_folder</th>\n",
       "      <th>test_file</th>\n",
       "      <th>train_sample_rate</th>\n",
       "      <th>test_sample_rate</th>\n",
       "      <th>Pr</th>\n",
       "      <th>Rc</th>\n",
       "      <th>F1</th>\n",
       "    </tr>\n",
       "  </thead>\n",
       "  <tbody>\n",
       "    <tr>\n",
       "      <th>0</th>\n",
       "      <td>0</td>\n",
       "      <td>SS</td>\n",
       "      <td>PHM C01 Simple LBD</td>\n",
       "      <td>data\\PHM_Tool_Wear_Data_C01_0p12.csv</td>\n",
       "      <td>1</td>\n",
       "      <td>-1</td>\n",
       "      <td>-40</td>\n",
       "      <td>0.12</td>\n",
       "      <td>1.00</td>\n",
       "      <td>1000.0</td>\n",
       "      <td>...</td>\n",
       "      <td>Separate test set.</td>\n",
       "      <td>40</td>\n",
       "      <td>5</td>\n",
       "      <td>results/Re-runs_01-June-2023</td>\n",
       "      <td>NaN</td>\n",
       "      <td>100</td>\n",
       "      <td>70</td>\n",
       "      <td>0.0</td>\n",
       "      <td>0.0</td>\n",
       "      <td>0.0</td>\n",
       "    </tr>\n",
       "    <tr>\n",
       "      <th>1</th>\n",
       "      <td>1</td>\n",
       "      <td>SS</td>\n",
       "      <td>PHM C01 Simple LBD</td>\n",
       "      <td>data\\PHM_Tool_Wear_Data_C01_0p12.csv</td>\n",
       "      <td>1</td>\n",
       "      <td>-1</td>\n",
       "      <td>-20</td>\n",
       "      <td>0.12</td>\n",
       "      <td>0.95</td>\n",
       "      <td>1000.0</td>\n",
       "      <td>...</td>\n",
       "      <td>Separate test set.</td>\n",
       "      <td>40</td>\n",
       "      <td>5</td>\n",
       "      <td>results/Re-runs_01-June-2023</td>\n",
       "      <td>NaN</td>\n",
       "      <td>100</td>\n",
       "      <td>70</td>\n",
       "      <td>0.0</td>\n",
       "      <td>0.0</td>\n",
       "      <td>0.0</td>\n",
       "    </tr>\n",
       "    <tr>\n",
       "      <th>2</th>\n",
       "      <td>3</td>\n",
       "      <td>SS</td>\n",
       "      <td>PHM C01 Simple LBD</td>\n",
       "      <td>data\\PHM_Tool_Wear_Data_C01_0p12.csv</td>\n",
       "      <td>1</td>\n",
       "      <td>-1</td>\n",
       "      <td>-100</td>\n",
       "      <td>0.12</td>\n",
       "      <td>1.00</td>\n",
       "      <td>1000.0</td>\n",
       "      <td>...</td>\n",
       "      <td>Separate test set.</td>\n",
       "      <td>40</td>\n",
       "      <td>5</td>\n",
       "      <td>results/Re-runs_01-June-2023</td>\n",
       "      <td>NaN</td>\n",
       "      <td>100</td>\n",
       "      <td>70</td>\n",
       "      <td>0.0</td>\n",
       "      <td>0.0</td>\n",
       "      <td>0.0</td>\n",
       "    </tr>\n",
       "  </tbody>\n",
       "</table>\n",
       "<p>3 rows × 24 columns</p>\n",
       "</div>"
      ],
      "text/plain": [
       "   expt_n environment    environment_info  \\\n",
       "0       0          SS  PHM C01 Simple LBD   \n",
       "1       1          SS  PHM C01 Simple LBD   \n",
       "2       3          SS  PHM C01 Simple LBD   \n",
       "\n",
       "                              data_file  R1  R2   R3  wear_threshold  \\\n",
       "0  data\\PHM_Tool_Wear_Data_C01_0p12.csv   1  -1  -40            0.12   \n",
       "1  data\\PHM_Tool_Wear_Data_C01_0p12.csv   1  -1  -20            0.12   \n",
       "2  data\\PHM_Tool_Wear_Data_C01_0p12.csv   1  -1 -100            0.12   \n",
       "\n",
       "   threshold_factor  add_noise  ...           test_info  test_cases  \\\n",
       "0              1.00     1000.0  ...  Separate test set.          40   \n",
       "1              0.95     1000.0  ...  Separate test set.          40   \n",
       "2              1.00     1000.0  ...  Separate test set.          40   \n",
       "\n",
       "   test_rounds                results_folder test_file  train_sample_rate  \\\n",
       "0            5  results/Re-runs_01-June-2023       NaN                100   \n",
       "1            5  results/Re-runs_01-June-2023       NaN                100   \n",
       "2            5  results/Re-runs_01-June-2023       NaN                100   \n",
       "\n",
       "   test_sample_rate   Pr   Rc   F1  \n",
       "0                70  0.0  0.0  0.0  \n",
       "1                70  0.0  0.0  0.0  \n",
       "2                70  0.0  0.0  0.0  \n",
       "\n",
       "[3 rows x 24 columns]"
      ]
     },
     "execution_count": 15,
     "metadata": {},
     "output_type": "execute_result"
    }
   ],
   "source": [
    "dfr['Pr'] = 0.0\n",
    "dfr['Rc'] = 0.0\n",
    "dfr['F1'] = 0.0\n",
    "dfr"
   ]
  },
  {
   "cell_type": "code",
   "execution_count": 36,
   "id": "558f1daf-bcdd-42c1-92bd-98b57d1e80fc",
   "metadata": {
    "tags": []
   },
   "outputs": [
    {
     "data": {
      "text/plain": [
       "0    0.30\n",
       "1    0.66\n",
       "2    0.66\n",
       "Name: F1, dtype: float64"
      ]
     },
     "execution_count": 36,
     "metadata": {},
     "output_type": "execute_result"
    }
   ],
   "source": [
    "for n in range(len(df)):\n",
    "    dfr.loc[n, 'Pr'] = np.random.randint(100)/100\n",
    "    dfr.loc[n, 'Rc'] = np.random.randint(100)/100\n",
    "    dfr.loc[n, 'F1'] = np.random.randint(100)/100\n",
    "    \n",
    "dfr['F1']"
   ]
  }
 ],
 "metadata": {
  "kernelspec": {
   "display_name": "RL",
   "language": "python",
   "name": "rl"
  },
  "language_info": {
   "codemirror_mode": {
    "name": "ipython",
    "version": 3
   },
   "file_extension": ".py",
   "mimetype": "text/x-python",
   "name": "python",
   "nbconvert_exporter": "python",
   "pygments_lexer": "ipython3",
   "version": "3.9.1"
  }
 },
 "nbformat": 4,
 "nbformat_minor": 5
}
