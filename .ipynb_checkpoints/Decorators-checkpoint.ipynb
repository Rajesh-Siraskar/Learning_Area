{
 "cells": [
  {
   "cell_type": "markdown",
   "id": "0a0967d1-5c5b-40ef-a2bc-2c289d451240",
   "metadata": {},
   "source": [
    "## Python Decorators"
   ]
  },
  {
   "cell_type": "markdown",
   "id": "fd8bc870-b2d9-458c-8859-35cd3f7e93b1",
   "metadata": {},
   "source": [
    "#### Function as first-class \"objects\""
   ]
  },
  {
   "cell_type": "code",
   "execution_count": 9,
   "id": "118bd6e7-147e-4988-9dce-0d577541370d",
   "metadata": {
    "tags": []
   },
   "outputs": [
    {
     "data": {
      "text/plain": [
       "<function __main__.Add(x, y)>"
      ]
     },
     "execution_count": 9,
     "metadata": {},
     "output_type": "execute_result"
    }
   ],
   "source": [
    "def Add(x, y):\n",
    "    return (x+y)\n",
    "\n",
    "def Sub(x, y):\n",
    "    return (x-y)\n",
    "\n",
    "a_obj = Add\n",
    "a_obj"
   ]
  },
  {
   "cell_type": "markdown",
   "id": "6d0ab1f0-c87b-48df-9048-70b3d0dd8925",
   "metadata": {},
   "source": [
    "#### Function as inner functions"
   ]
  },
  {
   "cell_type": "code",
   "execution_count": 17,
   "id": "969afa7c-6ea8-4cd3-967f-ae797a94f42b",
   "metadata": {
    "tags": []
   },
   "outputs": [
    {
     "name": "stdout",
     "output_type": "stream",
     "text": [
      "Op: 3 + 7 = 10\n",
      "Op: 3 - 7 = -4\n"
     ]
    }
   ],
   "source": [
    "def Calc(x, y):\n",
    "    def Add(x, y):\n",
    "        print(f'Op: {x} + {y} = ', end='')\n",
    "        return (x+y)\n",
    "\n",
    "    def Sub(x, y):\n",
    "        print(f'Op: {x} - {y} = ', end='')\n",
    "        return (x-y)\n",
    "    \n",
    "    print(Add(x, y))\n",
    "    print(Sub(x, y))\n",
    "\n",
    "Calc(3, 7)"
   ]
  },
  {
   "cell_type": "markdown",
   "id": "37ddae53-c861-4b4c-87c7-62d3336ecbf7",
   "metadata": {},
   "source": [
    "#### Decorators: \n",
    "- Decorators wrap a function, and allow modifying its core behavior"
   ]
  },
  {
   "cell_type": "code",
   "execution_count": 61,
   "id": "78dacda0-6595-4be0-a77b-5a7f759feb44",
   "metadata": {
    "tags": []
   },
   "outputs": [
    {
     "name": "stdout",
     "output_type": "stream",
     "text": [
      "decoratorCalc >> Passed Op: <function Add at 0x000002182D339DC0>\n",
      "Op: 3 + 7 = 10\n",
      "Some modification to the orignal function passed: We addiontally display its product, before exiting\n",
      "21\n",
      "\n",
      "\n",
      "decoratorCalc >> Passed Op: <function Sub at 0x000002182D2A55E0>\n",
      "Op: 3 - 7 = -4\n",
      "Some modification to the orignal function passed: We addiontally display its product, before exiting\n",
      "21\n"
     ]
    }
   ],
   "source": [
    "def Add(x, y):\n",
    "        print(f'Op: {x} + {y} = ', end='')\n",
    "        return (x+y)\n",
    "\n",
    "def Sub(x, y):\n",
    "    print(f'Op: {x} - {y} = ', end='')\n",
    "    return (x-y)\n",
    "\n",
    "def decoratorCalc(func, x, y):\n",
    "    print(f'decoratorCalc >> Passed Op: {func}')    \n",
    "    print(func(x, y))\n",
    "    print('Some modification to the orignal function passed: We addiontally display its product, before exiting')\n",
    "    print(x*y)\n",
    "\n",
    "decoratorCalc(Add, 3, 7)\n",
    "print('\\n')\n",
    "decoratorCalc(Sub, 3, 7)"
   ]
  },
  {
   "cell_type": "markdown",
   "id": "b7c26e5d-9193-4f3a-9681-016cef538828",
   "metadata": {},
   "source": [
    "#### Decorators: Using Python @\n"
   ]
  },
  {
   "cell_type": "code",
   "execution_count": 80,
   "id": "4f4e003c-03b6-4738-8106-d8accc6a62a6",
   "metadata": {
    "tags": []
   },
   "outputs": [],
   "source": [
    "# Decorator function\n",
    "def decoratorCalc(func):\n",
    "    def inner_function(x, y):\n",
    "        print('\\n\\n** decoratorCalc **\\n - We addiontally display product of x and y, before performing the original op')\n",
    "        print(f' - Decorated Op: {x} * {y} = ', end='')\n",
    "        print(x*y)\n",
    "        \n",
    "        print(f' - Orignal passed Op: {func}') \n",
    "        return (func(x, y))\n",
    "    return (inner_function)\n",
    "\n",
    "@decoratorCalc\n",
    "def Add(x, y):\n",
    "    print(f'Op: {x} + {y} = ', end='')\n",
    "    return (x+y)\n",
    "\n",
    "@decoratorCalc\n",
    "def Sub(x, y):\n",
    "    print(f'Op: {x} - {y} = ', end='')\n",
    "    return (x-y)"
   ]
  },
  {
   "cell_type": "code",
   "execution_count": 81,
   "id": "c4fb85cf-fb89-40e4-b5fc-a7c234dedaa4",
   "metadata": {},
   "outputs": [
    {
     "name": "stdout",
     "output_type": "stream",
     "text": [
      "\n",
      "\n",
      "** decoratorCalc **\n",
      " - We addiontally display product of x and y, before performing the original op\n",
      " - Decorated Op: 3 * 7 = 21\n",
      " - Orignal passed Op: <function Add at 0x000002182D39FA60>\n"
     ]
    },
    {
     "ename": "TypeError",
     "evalue": "Add() missing 1 required positional argument: 'z'",
     "output_type": "error",
     "traceback": [
      "\u001b[1;31m---------------------------------------------------------------------------\u001b[0m",
      "\u001b[1;31mTypeError\u001b[0m                                 Traceback (most recent call last)",
      "Cell \u001b[1;32mIn[87], line 1\u001b[0m\n\u001b[1;32m----> 1\u001b[0m \u001b[38;5;28mprint\u001b[39m(\u001b[43mAdd\u001b[49m\u001b[43m(\u001b[49m\u001b[38;5;241;43m3\u001b[39;49m\u001b[43m,\u001b[49m\u001b[43m \u001b[49m\u001b[38;5;241;43m7\u001b[39;49m\u001b[43m)\u001b[49m)\n\u001b[0;32m      2\u001b[0m \u001b[38;5;28mprint\u001b[39m(Sub(\u001b[38;5;241m3\u001b[39m, \u001b[38;5;241m7\u001b[39m))\n",
      "Cell \u001b[1;32mIn[86], line 9\u001b[0m, in \u001b[0;36mdecoratorCalc.<locals>.inner_function\u001b[1;34m(x, y, z)\u001b[0m\n\u001b[0;32m      6\u001b[0m \u001b[38;5;28mprint\u001b[39m(x\u001b[38;5;241m*\u001b[39my)\n\u001b[0;32m      8\u001b[0m \u001b[38;5;28mprint\u001b[39m(\u001b[38;5;124mf\u001b[39m\u001b[38;5;124m'\u001b[39m\u001b[38;5;124m - Orignal passed Op: \u001b[39m\u001b[38;5;132;01m{\u001b[39;00mfunc\u001b[38;5;132;01m}\u001b[39;00m\u001b[38;5;124m'\u001b[39m) \n\u001b[1;32m----> 9\u001b[0m \u001b[38;5;28;01mreturn\u001b[39;00m (\u001b[43mfunc\u001b[49m\u001b[43m(\u001b[49m\u001b[43mx\u001b[49m\u001b[43m,\u001b[49m\u001b[43m \u001b[49m\u001b[43my\u001b[49m\u001b[43m)\u001b[49m)\n",
      "\u001b[1;31mTypeError\u001b[0m: Add() missing 1 required positional argument: 'z'"
     ]
    }
   ],
   "source": [
    "print(Add(3, 7))\n",
    "print(Sub(3, 7))"
   ]
  },
  {
   "cell_type": "code",
   "execution_count": null,
   "id": "7b97b82b-ba99-4ed8-913c-2d4cbed7df0f",
   "metadata": {},
   "outputs": [],
   "source": []
  }
 ],
 "metadata": {
  "kernelspec": {
   "display_name": "RL",
   "language": "python",
   "name": "rl"
  },
  "language_info": {
   "codemirror_mode": {
    "name": "ipython",
    "version": 3
   },
   "file_extension": ".py",
   "mimetype": "text/x-python",
   "name": "python",
   "nbconvert_exporter": "python",
   "pygments_lexer": "ipython3",
   "version": "3.9.1"
  }
 },
 "nbformat": 4,
 "nbformat_minor": 5
}
