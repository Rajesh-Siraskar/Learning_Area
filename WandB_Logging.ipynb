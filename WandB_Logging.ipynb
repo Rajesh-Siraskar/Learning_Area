{
 "cells": [
  {
   "cell_type": "markdown",
   "id": "3fb45ff5-2ab0-4784-a297-20faa401e34a",
   "metadata": {},
   "source": [
    "# W & B Logging - integrate with Stable-Baselines3 (SB3) algorithms\n",
    "\n",
    "API: ```495763973e99bfdb0b2163f83d82304edf9bd4e4```\n",
    "\n",
    "- Project: https://wandb.ai/rajesh-siraskar-team/RS-ML-project\n",
    "- Raw PyTorch project: https://wandb.ai/rajesh-siraskar-team/RS-ML-project/runs/nbft5kxi"
   ]
  },
  {
   "cell_type": "code",
   "execution_count": 1,
   "id": "cc130679-787c-4aa2-bf9c-c11c648c1ed9",
   "metadata": {
    "tags": []
   },
   "outputs": [],
   "source": [
    "import random\n",
    "import gym\n",
    "from stable_baselines3 import PPO\n",
    "from stable_baselines3.common.monitor import Monitor\n",
    "from stable_baselines3.common.vec_env import DummyVecEnv"
   ]
  },
  {
   "cell_type": "code",
   "execution_count": 2,
   "id": "beb66bad-ada9-434a-a344-a839699beb73",
   "metadata": {
    "tags": []
   },
   "outputs": [
    {
     "name": "stderr",
     "output_type": "stream",
     "text": [
      "\u001b[34m\u001b[1mwandb\u001b[0m: Currently logged in as: \u001b[33mrajesh-siraskar\u001b[0m (\u001b[33mrajesh-siraskar-team\u001b[0m). Use \u001b[1m`wandb login --relogin`\u001b[0m to force relogin\n"
     ]
    },
    {
     "data": {
      "text/plain": [
       "True"
      ]
     },
     "execution_count": 2,
     "metadata": {},
     "output_type": "execute_result"
    }
   ],
   "source": [
    "import wandb\n",
    "from wandb.integration.sb3 import WandbCallback\n",
    "\n",
    "wandb.login()"
   ]
  },
  {
   "cell_type": "markdown",
   "id": "45d4e9ae-ca46-4b9b-bdf0-41360a5b59ad",
   "metadata": {},
   "source": [
    "### Raw PyTorch use"
   ]
  },
  {
   "cell_type": "code",
   "execution_count": 6,
   "id": "4b2b0e46-a54f-4c0b-8a89-4796d867759f",
   "metadata": {
    "tags": []
   },
   "outputs": [
    {
     "data": {
      "text/html": [
       "Finishing last run (ID:wvnr2cmj) before initializing another..."
      ],
      "text/plain": [
       "<IPython.core.display.HTML object>"
      ]
     },
     "metadata": {},
     "output_type": "display_data"
    },
    {
     "data": {
      "text/html": [
       "Waiting for W&B process to finish... <strong style=\"color:green\">(success).</strong>"
      ],
      "text/plain": [
       "<IPython.core.display.HTML object>"
      ]
     },
     "metadata": {},
     "output_type": "display_data"
    },
    {
     "data": {
      "text/html": [
       " View run <strong style=\"color:#cdcd00\">rural-plant-1</strong> at: <a href='https://wandb.ai/rajesh-siraskar-team/RS-ML-project/runs/wvnr2cmj' target=\"_blank\">https://wandb.ai/rajesh-siraskar-team/RS-ML-project/runs/wvnr2cmj</a><br/>Synced 4 W&B file(s), 0 media file(s), 2 artifact file(s) and 0 other file(s)"
      ],
      "text/plain": [
       "<IPython.core.display.HTML object>"
      ]
     },
     "metadata": {},
     "output_type": "display_data"
    },
    {
     "data": {
      "text/html": [
       "Find logs at: <code>.\\wandb\\run-20230613_210904-wvnr2cmj\\logs</code>"
      ],
      "text/plain": [
       "<IPython.core.display.HTML object>"
      ]
     },
     "metadata": {},
     "output_type": "display_data"
    },
    {
     "data": {
      "text/html": [
       "Successfully finished last run (ID:wvnr2cmj). Initializing new run:<br/>"
      ],
      "text/plain": [
       "<IPython.core.display.HTML object>"
      ]
     },
     "metadata": {},
     "output_type": "display_data"
    },
    {
     "data": {
      "text/html": [
       "Tracking run with wandb version 0.15.4"
      ],
      "text/plain": [
       "<IPython.core.display.HTML object>"
      ]
     },
     "metadata": {},
     "output_type": "display_data"
    },
    {
     "data": {
      "text/html": [
       "Run data is saved locally in <code>D:\\Rajesh\\ResearchLab\\Learning_Area\\wandb\\run-20230613_210951-nbft5kxi</code>"
      ],
      "text/plain": [
       "<IPython.core.display.HTML object>"
      ]
     },
     "metadata": {},
     "output_type": "display_data"
    },
    {
     "data": {
      "text/html": [
       "Syncing run <strong><a href='https://wandb.ai/rajesh-siraskar-team/RS-ML-project/runs/nbft5kxi' target=\"_blank\">bumbling-aardvark-2</a></strong> to <a href='https://wandb.ai/rajesh-siraskar-team/RS-ML-project' target=\"_blank\">Weights & Biases</a> (<a href='https://wandb.me/run' target=\"_blank\">docs</a>)<br/>"
      ],
      "text/plain": [
       "<IPython.core.display.HTML object>"
      ]
     },
     "metadata": {},
     "output_type": "display_data"
    },
    {
     "data": {
      "text/html": [
       " View project at <a href='https://wandb.ai/rajesh-siraskar-team/RS-ML-project' target=\"_blank\">https://wandb.ai/rajesh-siraskar-team/RS-ML-project</a>"
      ],
      "text/plain": [
       "<IPython.core.display.HTML object>"
      ]
     },
     "metadata": {},
     "output_type": "display_data"
    },
    {
     "data": {
      "text/html": [
       " View run at <a href='https://wandb.ai/rajesh-siraskar-team/RS-ML-project/runs/nbft5kxi' target=\"_blank\">https://wandb.ai/rajesh-siraskar-team/RS-ML-project/runs/nbft5kxi</a>"
      ],
      "text/plain": [
       "<IPython.core.display.HTML object>"
      ]
     },
     "metadata": {},
     "output_type": "display_data"
    },
    {
     "name": "stdout",
     "output_type": "stream",
     "text": [
      "lr: 0.01\n",
      "epoch=2, accuracy=0.5180527073372365, loss=0.7017149861731453\n",
      "epoch=3, accuracy=0.611624366854121, loss=0.4235290832859938\n",
      "epoch=4, accuracy=0.6735402683234769, loss=0.3221509220528607\n",
      "epoch=5, accuracy=0.7862811796785344, loss=0.24821062528823992\n",
      "epoch=6, accuracy=0.7247553638060228, loss=0.17868028428095437\n",
      "epoch=7, accuracy=0.7669023957222336, loss=0.2636543021016444\n",
      "epoch=8, accuracy=0.7381959427847369, loss=0.2783640753166964\n",
      "epoch=9, accuracy=0.785317218042482, loss=0.26306326697306615\n"
     ]
    }
   ],
   "source": [
    "epochs=10\n",
    "lr=0.01\n",
    "\n",
    "run = wandb.init(\n",
    "    # Set the project where this run will be logged\n",
    "    project=\"RS-ML-project\",\n",
    "    # Track hyperparameters and run metadata\n",
    "    config={\n",
    "        \"learning_rate\": lr,\n",
    "        \"epochs\": epochs,\n",
    "    })\n",
    "\n",
    "offset = random.random() / 5\n",
    "print(f\"lr: {lr}\")\n",
    "\n",
    "# simulating a training run\n",
    "for epoch in range(2, epochs):\n",
    "    acc = 1 - 2 ** -epoch - random.random() / epoch - offset\n",
    "    loss = 2 ** -epoch + random.random() / epoch + offset\n",
    "    print(f\"epoch={epoch}, accuracy={acc}, loss={loss}\")\n",
    "    wandb.log({\"accuracy\": acc, \"loss\": loss})"
   ]
  },
  {
   "cell_type": "markdown",
   "id": "2f6c55eb-61d1-47dc-85db-5f397a020195",
   "metadata": {},
   "source": [
    "### Stable-Baselines 3 run"
   ]
  },
  {
   "cell_type": "code",
   "execution_count": 4,
   "id": "64904921-b4a5-4c77-a6f7-fdf475b69b3f",
   "metadata": {
    "tags": []
   },
   "outputs": [
    {
     "data": {
      "text/html": [
       "Finishing last run (ID:vvnhdvym) before initializing another..."
      ],
      "text/plain": [
       "<IPython.core.display.HTML object>"
      ]
     },
     "metadata": {},
     "output_type": "display_data"
    },
    {
     "data": {
      "text/html": [
       "Waiting for W&B process to finish... <strong style=\"color:green\">(success).</strong>"
      ],
      "text/plain": [
       "<IPython.core.display.HTML object>"
      ]
     },
     "metadata": {},
     "output_type": "display_data"
    },
    {
     "data": {
      "text/html": [
       " View run <strong style=\"color:#cdcd00\">royal-dream-2</strong> at: <a href='https://wandb.ai/rajesh-siraskar-team/sb3/runs/vvnhdvym' target=\"_blank\">https://wandb.ai/rajesh-siraskar-team/sb3/runs/vvnhdvym</a><br/>Synced 5 W&B file(s), 0 media file(s), 3 artifact file(s) and 1 other file(s)"
      ],
      "text/plain": [
       "<IPython.core.display.HTML object>"
      ]
     },
     "metadata": {},
     "output_type": "display_data"
    },
    {
     "data": {
      "text/html": [
       "Find logs at: <code>.\\wandb\\run-20230614_121305-vvnhdvym\\logs</code>"
      ],
      "text/plain": [
       "<IPython.core.display.HTML object>"
      ]
     },
     "metadata": {},
     "output_type": "display_data"
    },
    {
     "data": {
      "text/html": [
       "Successfully finished last run (ID:vvnhdvym). Initializing new run:<br/>"
      ],
      "text/plain": [
       "<IPython.core.display.HTML object>"
      ]
     },
     "metadata": {},
     "output_type": "display_data"
    },
    {
     "data": {
      "text/html": [
       "Tracking run with wandb version 0.15.4"
      ],
      "text/plain": [
       "<IPython.core.display.HTML object>"
      ]
     },
     "metadata": {},
     "output_type": "display_data"
    },
    {
     "data": {
      "text/html": [
       "Run data is saved locally in <code>D:\\Rajesh\\ResearchLab\\Learning_Area\\wandb\\run-20230614_121319-dw7j6918</code>"
      ],
      "text/plain": [
       "<IPython.core.display.HTML object>"
      ]
     },
     "metadata": {},
     "output_type": "display_data"
    },
    {
     "data": {
      "text/html": [
       "Syncing run <strong><a href='https://wandb.ai/rajesh-siraskar-team/sb3/runs/dw7j6918' target=\"_blank\">sweet-snowball-3</a></strong> to <a href='https://wandb.ai/rajesh-siraskar-team/sb3' target=\"_blank\">Weights & Biases</a> (<a href='https://wandb.me/run' target=\"_blank\">docs</a>)<br/>"
      ],
      "text/plain": [
       "<IPython.core.display.HTML object>"
      ]
     },
     "metadata": {},
     "output_type": "display_data"
    },
    {
     "data": {
      "text/html": [
       " View project at <a href='https://wandb.ai/rajesh-siraskar-team/sb3' target=\"_blank\">https://wandb.ai/rajesh-siraskar-team/sb3</a>"
      ],
      "text/plain": [
       "<IPython.core.display.HTML object>"
      ]
     },
     "metadata": {},
     "output_type": "display_data"
    },
    {
     "data": {
      "text/html": [
       " View run at <a href='https://wandb.ai/rajesh-siraskar-team/sb3/runs/dw7j6918' target=\"_blank\">https://wandb.ai/rajesh-siraskar-team/sb3/runs/dw7j6918</a>"
      ],
      "text/plain": [
       "<IPython.core.display.HTML object>"
      ]
     },
     "metadata": {},
     "output_type": "display_data"
    }
   ],
   "source": [
    "config = {\n",
    "    \"policy_type\": \"MlpPolicy\",\n",
    "    \"total_timesteps\": 1000,\n",
    "    \"env_name\": \"CartPole-v1\",\n",
    "}\n",
    "run = wandb.init(\n",
    "    project=\"sb3\",\n",
    "    config=config,\n",
    "    sync_tensorboard=True,  # auto-upload sb3's tensorboard metrics\n",
    "    # monitor_gym=True,  # auto-upload the videos of agents playing the game\n",
    "    save_code=True,  # optional\n",
    ")"
   ]
  },
  {
   "cell_type": "code",
   "execution_count": 5,
   "id": "d6e56579-8eb9-4a1e-8949-fd4fe88eb1b9",
   "metadata": {
    "tags": []
   },
   "outputs": [],
   "source": [
    "def make_env():\n",
    "    env = gym.make(config[\"env_name\"])\n",
    "    env = Monitor(env)  # record stats such as returns\n",
    "    return env"
   ]
  },
  {
   "cell_type": "code",
   "execution_count": 6,
   "id": "0cbeb26d-edd6-4e84-87d8-b1d04c71b1ff",
   "metadata": {
    "tags": []
   },
   "outputs": [
    {
     "name": "stdout",
     "output_type": "stream",
     "text": [
      "Using cpu device\n",
      "Logging to runs/dw7j6918\\PPO_1\n",
      "---------------------------------\n",
      "| rollout/           |          |\n",
      "|    ep_len_mean     | 21.8     |\n",
      "|    ep_rew_mean     | 21.8     |\n",
      "| time/              |          |\n",
      "|    fps             | 1066     |\n",
      "|    iterations      | 1        |\n",
      "|    time_elapsed    | 1        |\n",
      "|    total_timesteps | 2048     |\n",
      "---------------------------------\n"
     ]
    },
    {
     "data": {
      "text/html": [
       "Waiting for W&B process to finish... <strong style=\"color:green\">(success).</strong>"
      ],
      "text/plain": [
       "<IPython.core.display.HTML object>"
      ]
     },
     "metadata": {},
     "output_type": "display_data"
    },
    {
     "data": {
      "text/html": [
       " View run <strong style=\"color:#cdcd00\">sweet-snowball-3</strong> at: <a href='https://wandb.ai/rajesh-siraskar-team/sb3/runs/dw7j6918' target=\"_blank\">https://wandb.ai/rajesh-siraskar-team/sb3/runs/dw7j6918</a><br/>Synced 6 W&B file(s), 0 media file(s), 3 artifact file(s) and 0 other file(s)"
      ],
      "text/plain": [
       "<IPython.core.display.HTML object>"
      ]
     },
     "metadata": {},
     "output_type": "display_data"
    },
    {
     "data": {
      "text/html": [
       "Find logs at: <code>.\\wandb\\run-20230614_121319-dw7j6918\\logs</code>"
      ],
      "text/plain": [
       "<IPython.core.display.HTML object>"
      ]
     },
     "metadata": {},
     "output_type": "display_data"
    }
   ],
   "source": [
    "env = DummyVecEnv([make_env])\n",
    "# env = VecVideoRecorder(env, f\"videos/{run.id}\", record_video_trigger=lambda x: x % 2000 == 0, video_length=200)\n",
    "# model = PPO(config[\"policy_type\"], env, verbose=1, tensorboard_log=f\"runs/{run.id}\")\n",
    "\n",
    "model = PPO(config[\"policy_type\"], env, verbose=1, tensorboard_log=f\"runs/{run.id}\")\n",
    "\n",
    "model.learn(\n",
    "    total_timesteps=config[\"total_timesteps\"],\n",
    "    callback=WandbCallback(\n",
    "        gradient_save_freq=100,\n",
    "        # model_save_path=f\"models/{run.id}\",\n",
    "        verbose=2,\n",
    "    ),\n",
    ")\n",
    "run.finish()"
   ]
  },
  {
   "cell_type": "code",
   "execution_count": null,
   "id": "6f8e6648-c6cd-46d8-87da-1c2b2ce46f3a",
   "metadata": {},
   "outputs": [],
   "source": []
  }
 ],
 "metadata": {
  "kernelspec": {
   "display_name": "RL",
   "language": "python",
   "name": "rl"
  },
  "language_info": {
   "codemirror_mode": {
    "name": "ipython",
    "version": 3
   },
   "file_extension": ".py",
   "mimetype": "text/x-python",
   "name": "python",
   "nbconvert_exporter": "python",
   "pygments_lexer": "ipython3",
   "version": "3.9.1"
  }
 },
 "nbformat": 4,
 "nbformat_minor": 5
}
