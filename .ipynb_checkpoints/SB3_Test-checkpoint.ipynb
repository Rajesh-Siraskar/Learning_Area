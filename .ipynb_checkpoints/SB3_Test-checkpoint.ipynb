{
 "cells": [
  {
   "cell_type": "markdown",
   "id": "37d56521-5b62-4870-8f34-4feee54d0149",
   "metadata": {},
   "source": [
    "# Stable-Baselines3 (SB3) Test\n",
    "- Note: Stable Baselines3 (SB3) is a set of reliable implementations of reinforcement learning algorithms in PyTorch. It is the next major version of Stable Baselines\n",
    "- For Stable Baselines3 (SB3) >  ```pip show stable_baselines3 \n",
    "Name: stable-baselines3\n",
    "Version: 1.7.0```\n",
    "- for Stable Baselines > ```pip show stable-baselines\n",
    "Name: stable-baselines\n",
    "Version: 2.10.2```\n",
    "- Test stability of algos. using standard Gym environments\n",
    "- Enable tensorboard logging\n",
    "- Capture ideal tensorboard plots for DQN, A2C and PPO\n",
    "\n",
    "- Integrate W&B logging"
   ]
  },
  {
   "cell_type": "code",
   "execution_count": 89,
   "id": "8aa99616-7cd6-4823-97a6-606cb5e72780",
   "metadata": {
    "tags": []
   },
   "outputs": [
    {
     "name": "stdout",
     "output_type": "stream",
     "text": [
      "Version 1.7.0\n"
     ]
    }
   ],
   "source": [
    "import os\n",
    "import time\n",
    "import gym\n",
    "import stable_baselines3\n",
    "from stable_baselines3.ppo import MlpPolicy\n",
    "from stable_baselines3 import A2C, DQN, PPO\n",
    "from stable_baselines3.common.monitor import Monitor\n",
    "\n",
    "print(f'Version {stable_baselines3.__version__}')"
   ]
  },
  {
   "cell_type": "code",
   "execution_count": 90,
   "id": "ff00c6f0-2e0c-4684-ba94-c8860ba06db0",
   "metadata": {
    "tags": []
   },
   "outputs": [],
   "source": [
    "# Create unique log dir\n",
    "logdir = \"./logs/\"\n",
    "os.makedirs(logdir, exist_ok=True)\n",
    "\n",
    "# env = DummyVecEnv([lambda: env])\n",
    "# PPO2('MlpPolicy', env, verbose=1).learn(1000)"
   ]
  },
  {
   "cell_type": "code",
   "execution_count": 91,
   "id": "4fd228fe-4adc-4384-b665-0c4d89ac12ce",
   "metadata": {
    "tags": []
   },
   "outputs": [],
   "source": [
    "# env = gym.make(\"CartPole-v1\")\n",
    "# env = gym.make('Pendulum-v1', g=9.81)\n",
    "# env = gym.make('MountainCar-v0')\n",
    "# env = gym.make(\"MountainCarContinuous-v0\")"
   ]
  },
  {
   "cell_type": "code",
   "execution_count": 92,
   "id": "ff81a7fb-84e2-4784-85c2-91d2a2d0d21c",
   "metadata": {
    "tags": []
   },
   "outputs": [],
   "source": [
    "# models_dir = f\"models/\"\n",
    "# logdir = f\"logs/\"\n",
    "# if not os.path.exists(models_dir):\n",
    "#     os.makedirs(models_dir)\n",
    "# if not os.path.exists(logdir):\n",
    "#     os.makedirs(logdir)"
   ]
  },
  {
   "cell_type": "markdown",
   "id": "33db4ec1-1136-413c-8467-61bc72b8acf9",
   "metadata": {
    "tags": []
   },
   "source": [
    "### Train a model"
   ]
  },
  {
   "cell_type": "code",
   "execution_count": 93,
   "id": "30ef606e-6a6e-42ac-9107-1e72deab75fe",
   "metadata": {
    "tags": []
   },
   "outputs": [],
   "source": [
    "ALGO = 'ppo'\n",
    "timesteps=100_000\n",
    "\n",
    "# Create and wrap the environment\n",
    "# env = gym.make('CartPole-v1')\n",
    "env = gym.make('MountainCar-v0')\n",
    "env = Monitor(env, logdir, allow_early_resets=True)"
   ]
  },
  {
   "cell_type": "code",
   "execution_count": 94,
   "id": "b0c0221a-2655-42b6-b6c2-0e3f5644895c",
   "metadata": {
    "tags": []
   },
   "outputs": [
    {
     "name": "stdout",
     "output_type": "stream",
     "text": [
      "-Training ppo\n"
     ]
    }
   ],
   "source": [
    "if ALGO.upper() == 'PPO':\n",
    "    print(f'-Training {ALGO}')\n",
    "    model = PPO(\"MlpPolicy\", env, tensorboard_log=logdir)\n",
    "    model.learn(total_timesteps=timesteps)\n",
    "    # model.save(\"sb-3-models/PPO_cartpole\")\n",
    "elif ALGO.upper() == 'A2C':\n",
    "    print(f'-Training {ALGO}')\n",
    "    model = A2C(\"MlpPolicy\", env, tensorboard_log=logdir)\n",
    "    model.learn(total_timesteps=timesteps)\n",
    "    # model.save(\"sb-3-models/A2C_cartpole\")\n",
    "elif ALGO.upper() == 'DQN':\n",
    "    print(f'-Training {ALGO}')\n",
    "    model = DQN(\"MlpPolicy\", env, tensorboard_log=logdir)\n",
    "    model.learn(total_timesteps=timesteps)\n",
    "    # model.save(\"sb-3-models/DQN_cartpole\")   "
   ]
  },
  {
   "cell_type": "code",
   "execution_count": 95,
   "id": "0bccf526-38b4-4bdc-96e3-fa84d0e4495d",
   "metadata": {
    "tags": []
   },
   "outputs": [],
   "source": [
    "# model = DQN.load(\"sb-3-models/DQN_cartpole\")\n",
    "# model = A2C.load(\"sb-3-models/A2C_cartpole\")\n",
    "# model = PPO.load(\"sb-3-models/PPO_cartpole\")"
   ]
  },
  {
   "cell_type": "code",
   "execution_count": 96,
   "id": "2af8016c-1c39-44ef-b3c4-104bee1c756a",
   "metadata": {},
   "outputs": [
    {
     "name": "stdout",
     "output_type": "stream",
     "text": [
      "Testing ppo\n",
      "At 199 env. returned done -- resetting\n",
      "At 399 env. returned done -- resetting\n",
      "At 599 env. returned done -- resetting\n",
      "At 799 env. returned done -- resetting\n",
      "At 999 env. returned done -- resetting\n",
      "Done rendering. Close the env.\n"
     ]
    }
   ],
   "source": [
    "# vec_env = model.get_env()\n",
    "print(f'Testing {ALGO}')\n",
    "obs = env.reset()\n",
    "for i in range(1000):\n",
    "    action, _state = model.predict(obs, deterministic=True)\n",
    "    obs, reward, done, info = env.step(action)\n",
    "    if done:\n",
    "        print(f'At {i} env. returned done -- resetting')\n",
    "        obs = env.reset()\n",
    "    env.render(\"human\")\n",
    "    \n",
    "print('Done rendering. Close the env.')"
   ]
  },
  {
   "cell_type": "code",
   "execution_count": 97,
   "id": "0cd01908-583f-4cdd-a9e0-4f9f629768a4",
   "metadata": {},
   "outputs": [],
   "source": [
    "env.close()"
   ]
  },
  {
   "cell_type": "code",
   "execution_count": 98,
   "id": "eff0b820-2673-45d5-826d-c3003cd7e895",
   "metadata": {
    "tags": []
   },
   "outputs": [
    {
     "ename": "FileNotFoundError",
     "evalue": "[Errno 2] No such file or directory: 'models/RF_Model_Dasic_HighNBD.mdl'",
     "output_type": "error",
     "traceback": [
      "\u001b[1;31m---------------------------------------------------------------------------\u001b[0m",
      "\u001b[1;31mFileNotFoundError\u001b[0m                         Traceback (most recent call last)",
      "Cell \u001b[1;32mIn[98], line 19\u001b[0m\n\u001b[0;32m      3\u001b[0m \u001b[38;5;66;03m# RF_Model_Dasic_LowNBD.mdl\u001b[39;00m\n\u001b[0;32m      4\u001b[0m \u001b[38;5;66;03m# RF_Model_Dasic_NoNBD.mdl\u001b[39;00m\n\u001b[0;32m      5\u001b[0m \u001b[38;5;66;03m# RF_Model_PHM_C01_MS_NoNBD.mdl\u001b[39;00m\n\u001b[1;32m   (...)\u001b[0m\n\u001b[0;32m     15\u001b[0m \u001b[38;5;66;03m# RF_Model_PHM_C06_SS_LowNBD.mdl\u001b[39;00m\n\u001b[0;32m     16\u001b[0m \u001b[38;5;66;03m# RF_Model_PHM_C06_SS_NoNBD.mdl\u001b[39;00m\n\u001b[0;32m     18\u001b[0m filepath \u001b[38;5;241m=\u001b[39m \u001b[38;5;124m'\u001b[39m\u001b[38;5;124mmodels/RF_Model_Dasic_HighNBD.mdl\u001b[39m\u001b[38;5;124m'\u001b[39m\n\u001b[1;32m---> 19\u001b[0m model \u001b[38;5;241m=\u001b[39m pickle\u001b[38;5;241m.\u001b[39mload(\u001b[38;5;28;43mopen\u001b[39;49m\u001b[43m(\u001b[49m\u001b[43mfilepath\u001b[49m\u001b[43m,\u001b[49m\u001b[43m \u001b[49m\u001b[38;5;124;43m'\u001b[39;49m\u001b[38;5;124;43mrb\u001b[39;49m\u001b[38;5;124;43m'\u001b[39;49m\u001b[43m)\u001b[49m)\n",
      "File \u001b[1;32mc:\\users\\rajeshs\\appdata\\local\\programs\\python\\python39\\lib\\site-packages\\IPython\\core\\interactiveshell.py:282\u001b[0m, in \u001b[0;36m_modified_open\u001b[1;34m(file, *args, **kwargs)\u001b[0m\n\u001b[0;32m    275\u001b[0m \u001b[38;5;28;01mif\u001b[39;00m file \u001b[38;5;129;01min\u001b[39;00m {\u001b[38;5;241m0\u001b[39m, \u001b[38;5;241m1\u001b[39m, \u001b[38;5;241m2\u001b[39m}:\n\u001b[0;32m    276\u001b[0m     \u001b[38;5;28;01mraise\u001b[39;00m \u001b[38;5;167;01mValueError\u001b[39;00m(\n\u001b[0;32m    277\u001b[0m         \u001b[38;5;124mf\u001b[39m\u001b[38;5;124m\"\u001b[39m\u001b[38;5;124mIPython won\u001b[39m\u001b[38;5;124m'\u001b[39m\u001b[38;5;124mt let you open fd=\u001b[39m\u001b[38;5;132;01m{\u001b[39;00mfile\u001b[38;5;132;01m}\u001b[39;00m\u001b[38;5;124m by default \u001b[39m\u001b[38;5;124m\"\u001b[39m\n\u001b[0;32m    278\u001b[0m         \u001b[38;5;124m\"\u001b[39m\u001b[38;5;124mas it is likely to crash IPython. If you know what you are doing, \u001b[39m\u001b[38;5;124m\"\u001b[39m\n\u001b[0;32m    279\u001b[0m         \u001b[38;5;124m\"\u001b[39m\u001b[38;5;124myou can use builtins\u001b[39m\u001b[38;5;124m'\u001b[39m\u001b[38;5;124m open.\u001b[39m\u001b[38;5;124m\"\u001b[39m\n\u001b[0;32m    280\u001b[0m     )\n\u001b[1;32m--> 282\u001b[0m \u001b[38;5;28;01mreturn\u001b[39;00m io_open(file, \u001b[38;5;241m*\u001b[39margs, \u001b[38;5;241m*\u001b[39m\u001b[38;5;241m*\u001b[39mkwargs)\n",
      "\u001b[1;31mFileNotFoundError\u001b[0m: [Errno 2] No such file or directory: 'models/RF_Model_Dasic_HighNBD.mdl'"
     ]
    }
   ],
   "source": [
    "import pickle\n",
    "\n",
    "# RF_Model_Dasic_LowNBD.mdl\n",
    "# RF_Model_Dasic_NoNBD.mdl\n",
    "# RF_Model_PHM_C01_MS_NoNBD.mdl\n",
    "# RF_Model_PHM_C01_SS_HighNBD.mdl\n",
    "# RF_Model_PHM_C01_SS_LowNBD.mdl\n",
    "# RF_Model_PHM_C01_SS_NoNBD.mdl\n",
    "# RF_Model_PHM_C04_MS_NoNBD.mdl\n",
    "# RF_Model_PHM_C04_SS_HighNBD.mdl\n",
    "# RF_Model_PHM_C04_SS_LowNBD.mdl\n",
    "# RF_Model_PHM_C04_SS_NoNBD.mdl\n",
    "# RF_Model_PHM_C06_MS_NoNBD.mdl\n",
    "# RF_Model_PHM_C06_SS_HighNBD.mdl\n",
    "# RF_Model_PHM_C06_SS_LowNBD.mdl\n",
    "# RF_Model_PHM_C06_SS_NoNBD.mdl\n",
    "\n",
    "filepath = 'D:/Rajesh/ResearchLab/RL_for_PdM/REINFORCE_Tool_Replace_Policy/models/RF_Model_Dasic_HighNBD.mdl'\n",
    "model = pickle.load(open(filepath, 'rb'))"
   ]
  },
  {
   "cell_type": "code",
   "execution_count": null,
   "id": "02a1bf17-5554-4d59-bd21-8acc76126a15",
   "metadata": {},
   "outputs": [],
   "source": []
  }
 ],
 "metadata": {
  "kernelspec": {
   "display_name": "RL",
   "language": "python",
   "name": "rl"
  },
  "language_info": {
   "codemirror_mode": {
    "name": "ipython",
    "version": 3
   },
   "file_extension": ".py",
   "mimetype": "text/x-python",
   "name": "python",
   "nbconvert_exporter": "python",
   "pygments_lexer": "ipython3",
   "version": "3.9.1"
  }
 },
 "nbformat": 4,
 "nbformat_minor": 5
}
